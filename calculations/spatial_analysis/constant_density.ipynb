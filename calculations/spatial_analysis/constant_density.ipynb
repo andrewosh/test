{
 "cells": [
  {
   "cell_type": "code",
   "execution_count": 1,
   "metadata": {
    "collapsed": false
   },
   "outputs": [
    {
     "name": "stderr",
     "output_type": "stream",
     "text": [
      "/home/fabian/anaconda2/lib/python2.7/site-packages/IPython/config.py:13: ShimWarning: The `IPython.config` package has been deprecated. You should import from traitlets.config instead.\n",
      "  \"You should import from traitlets.config instead.\", ShimWarning)\n",
      "/home/fabian/anaconda2/lib/python2.7/site-packages/IPython/utils/traitlets.py:5: UserWarning: IPython.utils.traitlets has moved to a top-level traitlets package.\n",
      "  warn(\"IPython.utils.traitlets has moved to a top-level traitlets package.\")\n"
     ]
    }
   ],
   "source": [
    "import pandas as pd\n",
    "import scipy as sp\n",
    "from scipy import stats\n",
    "import matplotlib as mpl\n",
    "import matplotlib.pyplot as plt\n",
    "import pymc\n",
    "%matplotlib inline\n",
    "%load_ext ipycache\n",
    "\n",
    "%config InlineBackend.figure_format = 'svg'\n",
    "mpl.rcParams['axes.labelsize'] = 8\n",
    "mpl.rcParams['xtick.labelsize'] = 8\n",
    "mpl.rcParams['ytick.labelsize'] = 8\n",
    "mpl.rcParams['legend.fontsize'] = 8\n",
    "\n",
    "mpl.rcParams['font.family'] = ['Helvetica LT Std']\n",
    "mpl.rcParams['font.sans-serif'] = ['Helvetica LT Std']\n",
    "mpl.rcParams['text.usetex'] = False\n",
    "\n",
    "mpl.rcParams['svg.fonttype'] = 'none'"
   ]
  },
  {
   "cell_type": "code",
   "execution_count": 2,
   "metadata": {
    "collapsed": false
   },
   "outputs": [],
   "source": [
    "cell_numbers = pd.read_csv('../../data/cell_number_data.csv')\n",
    "SOX2_numbers = cell_numbers[['ID', 'pos', 'time', 'SOX2']].dropna()"
   ]
  },
  {
   "cell_type": "markdown",
   "metadata": {},
   "source": [
    "# Constant in space"
   ]
  },
  {
   "cell_type": "markdown",
   "metadata": {},
   "source": [
    "Possibilities include \n",
    "* Bayesian inference using 2 zones which leads to no siginificant difference.\n",
    "* fitting a line, should give gradient not different from 0\n",
    "    * problem here is that sigma is unknown\n",
    "* Test for normality (should give high GOF)\n",
    "\n"
   ]
  },
  {
   "cell_type": "code",
   "execution_count": 3,
   "metadata": {
    "collapsed": true
   },
   "outputs": [],
   "source": [
    "burn = 100000\n",
    "iter_ = 1100000\n",
    "thin = 1000"
   ]
  },
  {
   "cell_type": "markdown",
   "metadata": {},
   "source": [
    "## Test two zones"
   ]
  },
  {
   "cell_type": "code",
   "execution_count": 4,
   "metadata": {
    "collapsed": true
   },
   "outputs": [],
   "source": [
    "def make_2zone_model(data, SOX2_min, SOX2_max, sigma_min, sigma_max):\n",
    "    \n",
    "    positions = sp.array(data['pos'])\n",
    "    values_SOX2 = sp.array(data['SOX2'])\n",
    "   \n",
    "    def step_function(x, switchpoint, left_value, right_value):\n",
    "        ''' This function should return something in the same format as the passed array \n",
    "\n",
    "          Specifically, it produces an output that has an array of the same size of the experimental data\n",
    "        but whose contents are the lower average until the switchpoint, and the upper average past the switchpoint.\n",
    "        For all purposes, this builds the model to which we want to compare the data.\n",
    "        '''\n",
    "        return sp.where(x<=switchpoint, left_value, right_value)\n",
    "    \n",
    "    SOX2_left_mean = pymc.Uniform('SOX2_left_mean', lower = SOX2_min, upper = SOX2_max, value = 30.0)\n",
    "    SOX2_right_mean = pymc.Uniform('SOX2_right_mean', lower = SOX2_min, upper = SOX2_max, value = 30.0)\n",
    "    switchpoint = pymc.Uniform('switchpoint', lower = positions.min(), upper = positions.max(),\\\n",
    "                               value = 0.5*(positions.max() - positions.min()) + positions.min())\n",
    "    sigma = pymc.Uniform('sigma', lower = sigma_min, upper = sigma_max, value = 2.0)\n",
    "    \n",
    "    @pymc.deterministic(name='SOX2_step')\n",
    "    def SOX2_step(SOX2_left_mean = SOX2_left_mean, SOX2_right_mean = SOX2_right_mean):\n",
    "        return SOX2_left_mean - SOX2_right_mean\n",
    "    \n",
    "    @pymc.deterministic(name='SOX2_mean')\n",
    "    def SOX2_mean(x = positions, switchpoint = switchpoint, left_value = SOX2_left_mean, right_value = SOX2_right_mean):\n",
    "        return step_function(x, switchpoint, left_value, right_value)\n",
    "    \n",
    "    cells_SOX2 = pymc.Normal('cells_SOX2', mu=SOX2_mean, tau = 1/sigma**2, value = values_SOX2,\\\n",
    "                                           plot = False, observed = True)\n",
    "\n",
    "\n",
    "    return locals()"
   ]
  },
  {
   "cell_type": "code",
   "execution_count": 5,
   "metadata": {
    "collapsed": true
   },
   "outputs": [],
   "source": [
    "SOX2_min, SOX2_max = 0.0, 50.0\n",
    "sigma_min, sigma_max = 0.1, 10.0"
   ]
  },
  {
   "cell_type": "code",
   "execution_count": 6,
   "metadata": {
    "collapsed": false
   },
   "outputs": [
    {
     "name": "stdout",
     "output_type": "stream",
     "text": [
      "[Skipped the cell's code and loaded variables step_df from file '/media/500G/fabian/work/axolotl/git/axolotl-spinal-cord-regeneration-mechanism/jupyter/calculations/cache/density/step_df.pkl'.]\n",
      "CPU times: user 45min 24s, sys: 498 ms, total: 45min 24s\n",
      "Wall time: 45min 25s\n"
     ]
    }
   ],
   "source": [
    "%%cache step_df.pkl step_df --cachedir ../cache/density\n",
    "%%time \n",
    "step_df = pd.DataFrame()\n",
    "for ID, data in SOX2_numbers.set_index('ID').dropna().groupby(level = 'ID'):\n",
    "    map_ = pymc.MAP(make_2zone_model(data, SOX2_min, SOX2_max, sigma_min, sigma_max))\n",
    "    map_.fit()\n",
    "    M = pymc.MCMC(map_)\n",
    "    M.sample(iter=iter_, burn=burn, thin=thin, progress_bar=False)\n",
    "#     pymc.Matplot.plot(M.SOX2_step)\n",
    "    trace = M.SOX2_step.trace()\n",
    "    step_df.loc[ID, 'mean'] = trace.mean()\n",
    "    step_df.loc[ID, 'minus3sigma'] = sp.percentile(trace, 0.5*(100.0-99.73))\n",
    "    step_df.loc[ID, 'plus3sigma'] = sp.percentile(trace, 100.0 - 0.5*(100.0-99.73))\n",
    "    step_df.loc[ID, 'minus2sigma'] = sp.percentile(trace, 0.5*(100.0-95.4))\n",
    "    step_df.loc[ID, 'plus2sigma'] = sp.percentile(trace, 100.0 - 0.5*(100.0-95.4))\n",
    "    step_df.loc[ID, 'minus_p05'] = sp.percentile(trace, 0.5*(100.0-97.5))\n",
    "    step_df.loc[ID, 'plus_p05'] = sp.percentile(trace, 100.0 - 0.5*(100.0-97.5))\n",
    "    \n",
    "    step_df.loc[ID, 'AICc'] = map_.AICc"
   ]
  },
  {
   "cell_type": "code",
   "execution_count": 7,
   "metadata": {
    "collapsed": false
   },
   "outputs": [
    {
     "data": {
      "text/html": [
       "<div>\n",
       "<table border=\"1\" class=\"dataframe\">\n",
       "  <thead>\n",
       "    <tr style=\"text-align: right;\">\n",
       "      <th></th>\n",
       "      <th>mean</th>\n",
       "      <th>minus3sigma</th>\n",
       "      <th>plus3sigma</th>\n",
       "      <th>minus2sigma</th>\n",
       "      <th>plus2sigma</th>\n",
       "      <th>minus_p05</th>\n",
       "      <th>plus_p05</th>\n",
       "      <th>AICc</th>\n",
       "    </tr>\n",
       "  </thead>\n",
       "  <tbody>\n",
       "    <tr>\n",
       "      <th>3D_2</th>\n",
       "      <td>-5.364232</td>\n",
       "      <td>-8.668578</td>\n",
       "      <td>-1.028550</td>\n",
       "      <td>-7.624516</td>\n",
       "      <td>-3.197330</td>\n",
       "      <td>-7.926537</td>\n",
       "      <td>-2.751976</td>\n",
       "      <td>114.161681</td>\n",
       "    </tr>\n",
       "    <tr>\n",
       "      <th>4D_1</th>\n",
       "      <td>-4.059149</td>\n",
       "      <td>-7.384591</td>\n",
       "      <td>3.645089</td>\n",
       "      <td>-6.392087</td>\n",
       "      <td>-1.764378</td>\n",
       "      <td>-6.648798</td>\n",
       "      <td>-1.140354</td>\n",
       "      <td>91.525845</td>\n",
       "    </tr>\n",
       "    <tr>\n",
       "      <th>6D_3</th>\n",
       "      <td>4.264154</td>\n",
       "      <td>-4.528040</td>\n",
       "      <td>9.842569</td>\n",
       "      <td>1.071891</td>\n",
       "      <td>7.161725</td>\n",
       "      <td>0.102304</td>\n",
       "      <td>7.520857</td>\n",
       "      <td>129.868231</td>\n",
       "    </tr>\n",
       "    <tr>\n",
       "      <th>8D_2</th>\n",
       "      <td>3.365180</td>\n",
       "      <td>1.032137</td>\n",
       "      <td>5.368513</td>\n",
       "      <td>2.068943</td>\n",
       "      <td>4.567468</td>\n",
       "      <td>1.907732</td>\n",
       "      <td>4.731656</td>\n",
       "      <td>75.398375</td>\n",
       "    </tr>\n",
       "  </tbody>\n",
       "</table>\n",
       "</div>"
      ],
      "text/plain": [
       "          mean  minus3sigma  plus3sigma  minus2sigma  plus2sigma  minus_p05  \\\n",
       "3D_2 -5.364232    -8.668578   -1.028550    -7.624516   -3.197330  -7.926537   \n",
       "4D_1 -4.059149    -7.384591    3.645089    -6.392087   -1.764378  -6.648798   \n",
       "6D_3  4.264154    -4.528040    9.842569     1.071891    7.161725   0.102304   \n",
       "8D_2  3.365180     1.032137    5.368513     2.068943    4.567468   1.907732   \n",
       "\n",
       "      plus_p05        AICc  \n",
       "3D_2 -2.751976  114.161681  \n",
       "4D_1 -1.140354   91.525845  \n",
       "6D_3  7.520857  129.868231  \n",
       "8D_2  4.731656   75.398375  "
      ]
     },
     "execution_count": 7,
     "metadata": {},
     "output_type": "execute_result"
    }
   ],
   "source": [
    "step_df.query('minus_p05 > 0 or plus_p05 < 0')"
   ]
  },
  {
   "cell_type": "markdown",
   "metadata": {},
   "source": [
    "## Test for gradient"
   ]
  },
  {
   "cell_type": "code",
   "execution_count": 8,
   "metadata": {
    "collapsed": true
   },
   "outputs": [],
   "source": [
    "def make_line_model(data, m_min, m_max, n_min, n_max, sigma_min, sigma_max):\n",
    "    \n",
    "    positions = sp.array(data['pos'])\n",
    "    values_SOX2 = sp.array(data['SOX2'])\n",
    "   \n",
    "    def line(x, m, n):\n",
    "        return m * x + n\n",
    "    \n",
    "    m = pymc.Uniform('m', lower = m_min, upper = m_max, value = 0.0)\n",
    "    n = pymc.Uniform('n', lower = n_min, upper = n_max, value = 30.0)\n",
    "    sigma = pymc.Uniform('sigma', lower = sigma_min, upper = sigma_max, value = 2.0)\n",
    "    \n",
    "    @pymc.deterministic(name='SOX2_mean')\n",
    "    def SOX2_mean(x = positions, m = m, n = n):\n",
    "        return line(x, m, n)\n",
    "    \n",
    "    cells_SOX2 = pymc.Normal('cells_SOX2', mu=SOX2_mean, tau = 1/sigma**2, value = values_SOX2,\\\n",
    "                                           plot = False, observed = True)\n",
    "\n",
    "\n",
    "    return locals()"
   ]
  },
  {
   "cell_type": "code",
   "execution_count": 9,
   "metadata": {
    "collapsed": true
   },
   "outputs": [],
   "source": [
    "m_min, m_max = -1.0, 1.0\n",
    "n_min, n_max = 0.0, 50.0\n",
    "sigma_min, sigma_max = 0.1, 10.0"
   ]
  },
  {
   "cell_type": "code",
   "execution_count": 10,
   "metadata": {
    "collapsed": false
   },
   "outputs": [
    {
     "name": "stdout",
     "output_type": "stream",
     "text": [
      "[Skipped the cell's code and loaded variables m_df from file '/media/500G/fabian/work/axolotl/git/axolotl-spinal-cord-regeneration-mechanism/jupyter/calculations/cache/density/m_df.pkl'.]\n",
      "CPU times: user 32min 47s, sys: 264 ms, total: 32min 48s\n",
      "Wall time: 32min 48s\n"
     ]
    }
   ],
   "source": [
    "%%cache m_df.pkl m_df --cachedir ../cache/density\n",
    "%%time \n",
    "m_df = pd.DataFrame()\n",
    "for ID, data in SOX2_numbers.set_index('ID').dropna().groupby(level = 'ID'):\n",
    "    map_ = pymc.MAP(make_line_model(data, m_min, m_max, n_min, n_max, sigma_min, sigma_max))\n",
    "    map_.fit()\n",
    "    M = pymc.MCMC(map_)\n",
    "    M.sample(iter=iter_, burn=burn, thin=thin, progress_bar=False)\n",
    "#     pymc.Matplot.plot(M.m)\n",
    "    trace =  M.m.trace()\n",
    "    m_df.loc[ID, 'mean'] = trace.mean()\n",
    "    m_df.loc[ID, 'minus3sigma'] = sp.percentile(trace, 0.5*(100.0-99.73))\n",
    "    m_df.loc[ID, 'plus3sigma'] = sp.percentile(trace, 100.0 - 0.5*(100.0-99.73))\n",
    "    m_df.loc[ID, 'minus2sigma'] = sp.percentile(trace, 0.5*(100.0-95.4))\n",
    "    m_df.loc[ID, 'plus2sigma'] = sp.percentile(trace, 100.0 - 0.5*(100.0-95.4))\n",
    "    m_df.loc[ID, 'minus_p05'] = sp.percentile(trace, 0.5*(100.0-97.5))\n",
    "    m_df.loc[ID, 'plus_05'] = sp.percentile(trace, 100.0 - 0.5*(100.0-97.5))\n",
    "    m_df.loc[ID, 'AICc'] = map_.AICc"
   ]
  },
  {
   "cell_type": "code",
   "execution_count": 11,
   "metadata": {
    "collapsed": false
   },
   "outputs": [
    {
     "data": {
      "text/html": [
       "<div>\n",
       "<table border=\"1\" class=\"dataframe\">\n",
       "  <thead>\n",
       "    <tr style=\"text-align: right;\">\n",
       "      <th></th>\n",
       "      <th>mean</th>\n",
       "      <th>minus3sigma</th>\n",
       "      <th>plus3sigma</th>\n",
       "      <th>minus2sigma</th>\n",
       "      <th>plus2sigma</th>\n",
       "      <th>minus_p05</th>\n",
       "      <th>plus_05</th>\n",
       "      <th>AICc</th>\n",
       "    </tr>\n",
       "  </thead>\n",
       "  <tbody>\n",
       "    <tr>\n",
       "      <th>3D_2</th>\n",
       "      <td>0.003082</td>\n",
       "      <td>-0.000086</td>\n",
       "      <td>0.005812</td>\n",
       "      <td>0.001148</td>\n",
       "      <td>0.004983</td>\n",
       "      <td>0.000845</td>\n",
       "      <td>0.005202</td>\n",
       "      <td>102.516181</td>\n",
       "    </tr>\n",
       "    <tr>\n",
       "      <th>4D_1</th>\n",
       "      <td>0.003758</td>\n",
       "      <td>0.000025</td>\n",
       "      <td>0.007342</td>\n",
       "      <td>0.001590</td>\n",
       "      <td>0.005863</td>\n",
       "      <td>0.001431</td>\n",
       "      <td>0.006156</td>\n",
       "      <td>88.607768</td>\n",
       "    </tr>\n",
       "    <tr>\n",
       "      <th>6D_3</th>\n",
       "      <td>-0.002577</td>\n",
       "      <td>-0.006125</td>\n",
       "      <td>0.000447</td>\n",
       "      <td>-0.004652</td>\n",
       "      <td>-0.000501</td>\n",
       "      <td>-0.004852</td>\n",
       "      <td>-0.000129</td>\n",
       "      <td>129.590011</td>\n",
       "    </tr>\n",
       "    <tr>\n",
       "      <th>8D_2</th>\n",
       "      <td>-0.001640</td>\n",
       "      <td>-0.002793</td>\n",
       "      <td>-0.000639</td>\n",
       "      <td>-0.002370</td>\n",
       "      <td>-0.000994</td>\n",
       "      <td>-0.002463</td>\n",
       "      <td>-0.000838</td>\n",
       "      <td>71.062331</td>\n",
       "    </tr>\n",
       "  </tbody>\n",
       "</table>\n",
       "</div>"
      ],
      "text/plain": [
       "          mean  minus3sigma  plus3sigma  minus2sigma  plus2sigma  minus_p05  \\\n",
       "3D_2  0.003082    -0.000086    0.005812     0.001148    0.004983   0.000845   \n",
       "4D_1  0.003758     0.000025    0.007342     0.001590    0.005863   0.001431   \n",
       "6D_3 -0.002577    -0.006125    0.000447    -0.004652   -0.000501  -0.004852   \n",
       "8D_2 -0.001640    -0.002793   -0.000639    -0.002370   -0.000994  -0.002463   \n",
       "\n",
       "       plus_05        AICc  \n",
       "3D_2  0.005202  102.516181  \n",
       "4D_1  0.006156   88.607768  \n",
       "6D_3 -0.000129  129.590011  \n",
       "8D_2 -0.000838   71.062331  "
      ]
     },
     "execution_count": 11,
     "metadata": {},
     "output_type": "execute_result"
    }
   ],
   "source": [
    "m_df.query('minus_p05 > 0 or plus_05 < 0')"
   ]
  },
  {
   "cell_type": "markdown",
   "metadata": {},
   "source": [
    "Calculate the relative change in density per milimeter"
   ]
  },
  {
   "cell_type": "code",
   "execution_count": 12,
   "metadata": {
    "collapsed": false
   },
   "outputs": [],
   "source": [
    "rel_dens_change = 1000 * sp.absolute(m_df.query('minus_p05 > 0 or plus_05 < 0')['mean']) / SOX2_numbers.set_index('ID')['SOX2'].groupby(level = 'ID').agg('mean')"
   ]
  },
  {
   "cell_type": "code",
   "execution_count": 13,
   "metadata": {
    "collapsed": false
   },
   "outputs": [
    {
     "data": {
      "text/plain": [
       "0D_1         NaN\n",
       "0D_2         NaN\n",
       "0D_3         NaN\n",
       "3D_1         NaN\n",
       "3D_2    0.116215\n",
       "3D_3         NaN\n",
       "4D_1    0.126835\n",
       "4D_2         NaN\n",
       "4D_3         NaN\n",
       "6D_1         NaN\n",
       "6D_2         NaN\n",
       "6D_3    0.086615\n",
       "8D_1         NaN\n",
       "8D_2    0.053330\n",
       "8D_3         NaN\n",
       "dtype: float64"
      ]
     },
     "execution_count": 13,
     "metadata": {},
     "output_type": "execute_result"
    }
   ],
   "source": [
    "rel_dens_change"
   ]
  },
  {
   "cell_type": "markdown",
   "metadata": {},
   "source": [
    "## Constant"
   ]
  },
  {
   "cell_type": "code",
   "execution_count": 14,
   "metadata": {
    "collapsed": true
   },
   "outputs": [],
   "source": [
    "def make_constant_model(data, SOX2_min, SOX2_max, sigma_min, sigma_max):\n",
    "    \n",
    "    positions = sp.array(data['pos'])\n",
    "    values_SOX2 = sp.array(data['SOX2'])\n",
    "    \n",
    "    SOX2_mean = pymc.Uniform('SOX2_mean', lower = SOX2_min, upper = SOX2_max, value = 30.0)\n",
    "    sigma = pymc.Uniform('sigma', lower = sigma_min, upper = sigma_max, value = 2.0)\n",
    "    \n",
    "    cells_SOX2 = pymc.Normal('cells_SOX2', mu=SOX2_mean, tau = 1/sigma**2, value = values_SOX2,\\\n",
    "                                           plot = False, observed = True)\n",
    "\n",
    "    return locals()"
   ]
  },
  {
   "cell_type": "code",
   "execution_count": 15,
   "metadata": {
    "collapsed": true
   },
   "outputs": [],
   "source": [
    "SOX2_min, SOX2_max = 0.0, 50.0\n",
    "sigma_min, sigma_max = 0.1, 10.0"
   ]
  },
  {
   "cell_type": "code",
   "execution_count": 16,
   "metadata": {
    "collapsed": false
   },
   "outputs": [
    {
     "name": "stdout",
     "output_type": "stream",
     "text": [
      "[Skipped the cell's code and loaded variables c_df from file '/media/500G/fabian/work/axolotl/git/axolotl-spinal-cord-regeneration-mechanism/jupyter/calculations/cache/density/c_df.pkl'.]\n",
      "CPU times: user 102 ms, sys: 0 ns, total: 102 ms\n",
      "Wall time: 102 ms\n"
     ]
    }
   ],
   "source": [
    "%%cache c_df.pkl c_df --cachedir ../cache/density\n",
    "%%time \n",
    "c_df = pd.DataFrame()\n",
    "for ID, data in SOX2_numbers.set_index('ID').dropna().groupby(level = 'ID'):\n",
    "    map_ = pymc.MAP(make_constant_model(data, SOX2_min, SOX2_max, sigma_min, sigma_max))\n",
    "    map_.fit()\n",
    "    c_df.loc[ID, 'AICc'] = map_.AICc"
   ]
  },
  {
   "cell_type": "markdown",
   "metadata": {},
   "source": [
    "## Compare AICc"
   ]
  },
  {
   "cell_type": "markdown",
   "metadata": {},
   "source": [
    "The AICc of 2 zone model is probably wrong (switchpoint changes Likelihood only every 50 $\\mu m$"
   ]
  },
  {
   "cell_type": "code",
   "execution_count": 17,
   "metadata": {
    "collapsed": false
   },
   "outputs": [
    {
     "data": {
      "text/html": [
       "<div>\n",
       "<table border=\"1\" class=\"dataframe\">\n",
       "  <thead>\n",
       "    <tr style=\"text-align: right;\">\n",
       "      <th></th>\n",
       "      <th>constant</th>\n",
       "      <th>line</th>\n",
       "      <th>2zone</th>\n",
       "      <th>constant&lt;line</th>\n",
       "    </tr>\n",
       "  </thead>\n",
       "  <tbody>\n",
       "    <tr>\n",
       "      <th>0D_1</th>\n",
       "      <td>63.940639</td>\n",
       "      <td>66.128804</td>\n",
       "      <td>71.170584</td>\n",
       "      <td>True</td>\n",
       "    </tr>\n",
       "    <tr>\n",
       "      <th>0D_2</th>\n",
       "      <td>53.411980</td>\n",
       "      <td>56.899700</td>\n",
       "      <td>62.546050</td>\n",
       "      <td>True</td>\n",
       "    </tr>\n",
       "    <tr>\n",
       "      <th>0D_3</th>\n",
       "      <td>61.234091</td>\n",
       "      <td>60.684997</td>\n",
       "      <td>61.731990</td>\n",
       "      <td>False</td>\n",
       "    </tr>\n",
       "    <tr>\n",
       "      <th>3D_1</th>\n",
       "      <td>57.801557</td>\n",
       "      <td>60.509826</td>\n",
       "      <td>66.037929</td>\n",
       "      <td>True</td>\n",
       "    </tr>\n",
       "    <tr>\n",
       "      <th>3D_2</th>\n",
       "      <td>110.651018</td>\n",
       "      <td>102.516181</td>\n",
       "      <td>114.161681</td>\n",
       "      <td>False</td>\n",
       "    </tr>\n",
       "    <tr>\n",
       "      <th>3D_3</th>\n",
       "      <td>64.063458</td>\n",
       "      <td>67.121910</td>\n",
       "      <td>70.347189</td>\n",
       "      <td>True</td>\n",
       "    </tr>\n",
       "    <tr>\n",
       "      <th>4D_1</th>\n",
       "      <td>98.723801</td>\n",
       "      <td>88.607768</td>\n",
       "      <td>91.525845</td>\n",
       "      <td>False</td>\n",
       "    </tr>\n",
       "    <tr>\n",
       "      <th>4D_2</th>\n",
       "      <td>102.971748</td>\n",
       "      <td>102.056794</td>\n",
       "      <td>101.693386</td>\n",
       "      <td>False</td>\n",
       "    </tr>\n",
       "    <tr>\n",
       "      <th>4D_3</th>\n",
       "      <td>94.168577</td>\n",
       "      <td>92.991718</td>\n",
       "      <td>98.649776</td>\n",
       "      <td>False</td>\n",
       "    </tr>\n",
       "    <tr>\n",
       "      <th>6D_1</th>\n",
       "      <td>160.030241</td>\n",
       "      <td>159.422730</td>\n",
       "      <td>162.686205</td>\n",
       "      <td>False</td>\n",
       "    </tr>\n",
       "    <tr>\n",
       "      <th>6D_2</th>\n",
       "      <td>195.310933</td>\n",
       "      <td>197.343223</td>\n",
       "      <td>200.198785</td>\n",
       "      <td>True</td>\n",
       "    </tr>\n",
       "    <tr>\n",
       "      <th>6D_3</th>\n",
       "      <td>133.497137</td>\n",
       "      <td>129.590011</td>\n",
       "      <td>129.868231</td>\n",
       "      <td>False</td>\n",
       "    </tr>\n",
       "    <tr>\n",
       "      <th>8D_1</th>\n",
       "      <td>79.162507</td>\n",
       "      <td>81.828726</td>\n",
       "      <td>83.672028</td>\n",
       "      <td>True</td>\n",
       "    </tr>\n",
       "    <tr>\n",
       "      <th>8D_2</th>\n",
       "      <td>87.562398</td>\n",
       "      <td>71.062331</td>\n",
       "      <td>75.398375</td>\n",
       "      <td>False</td>\n",
       "    </tr>\n",
       "    <tr>\n",
       "      <th>8D_3</th>\n",
       "      <td>101.929498</td>\n",
       "      <td>104.239184</td>\n",
       "      <td>107.650550</td>\n",
       "      <td>True</td>\n",
       "    </tr>\n",
       "  </tbody>\n",
       "</table>\n",
       "</div>"
      ],
      "text/plain": [
       "        constant        line       2zone constant<line\n",
       "0D_1   63.940639   66.128804   71.170584          True\n",
       "0D_2   53.411980   56.899700   62.546050          True\n",
       "0D_3   61.234091   60.684997   61.731990         False\n",
       "3D_1   57.801557   60.509826   66.037929          True\n",
       "3D_2  110.651018  102.516181  114.161681         False\n",
       "3D_3   64.063458   67.121910   70.347189          True\n",
       "4D_1   98.723801   88.607768   91.525845         False\n",
       "4D_2  102.971748  102.056794  101.693386         False\n",
       "4D_3   94.168577   92.991718   98.649776         False\n",
       "6D_1  160.030241  159.422730  162.686205         False\n",
       "6D_2  195.310933  197.343223  200.198785          True\n",
       "6D_3  133.497137  129.590011  129.868231         False\n",
       "8D_1   79.162507   81.828726   83.672028          True\n",
       "8D_2   87.562398   71.062331   75.398375         False\n",
       "8D_3  101.929498  104.239184  107.650550          True"
      ]
     },
     "execution_count": 17,
     "metadata": {},
     "output_type": "execute_result"
    }
   ],
   "source": [
    "AICc = pd.DataFrame()\n",
    "AICc['constant'] = c_df['AICc']\n",
    "AICc['line'] = m_df['AICc']\n",
    "AICc['2zone'] = step_df['AICc']\n",
    "AICc['constant<line'] = AICc['constant'] < AICc['line']\n",
    "AICc"
   ]
  },
  {
   "cell_type": "markdown",
   "metadata": {},
   "source": [
    "## Normtest"
   ]
  },
  {
   "cell_type": "code",
   "execution_count": 18,
   "metadata": {
    "collapsed": false
   },
   "outputs": [
    {
     "name": "stderr",
     "output_type": "stream",
     "text": [
      "/home/fabian/anaconda2/lib/python2.7/site-packages/scipy/stats/stats.py:1557: UserWarning: kurtosistest only valid for n>=20 ... continuing anyway, n=14\n",
      "  \"anyway, n=%i\" % int(n))\n",
      "/home/fabian/anaconda2/lib/python2.7/site-packages/scipy/stats/stats.py:1557: UserWarning: kurtosistest only valid for n>=20 ... continuing anyway, n=11\n",
      "  \"anyway, n=%i\" % int(n))\n",
      "/home/fabian/anaconda2/lib/python2.7/site-packages/scipy/stats/stats.py:1557: UserWarning: kurtosistest only valid for n>=20 ... continuing anyway, n=12\n",
      "  \"anyway, n=%i\" % int(n))\n",
      "/home/fabian/anaconda2/lib/python2.7/site-packages/scipy/stats/stats.py:1557: UserWarning: kurtosistest only valid for n>=20 ... continuing anyway, n=16\n",
      "  \"anyway, n=%i\" % int(n))\n",
      "/home/fabian/anaconda2/lib/python2.7/site-packages/scipy/stats/stats.py:1557: UserWarning: kurtosistest only valid for n>=20 ... continuing anyway, n=19\n",
      "  \"anyway, n=%i\" % int(n))\n",
      "/home/fabian/anaconda2/lib/python2.7/site-packages/scipy/stats/stats.py:1557: UserWarning: kurtosistest only valid for n>=20 ... continuing anyway, n=18\n",
      "  \"anyway, n=%i\" % int(n))\n"
     ]
    },
    {
     "data": {
      "text/html": [
       "<div>\n",
       "<table border=\"1\" class=\"dataframe\">\n",
       "  <thead>\n",
       "    <tr style=\"text-align: right;\">\n",
       "      <th></th>\n",
       "      <th>SOX2</th>\n",
       "    </tr>\n",
       "    <tr>\n",
       "      <th>ID</th>\n",
       "      <th></th>\n",
       "    </tr>\n",
       "  </thead>\n",
       "  <tbody>\n",
       "    <tr>\n",
       "      <th>0D_1</th>\n",
       "      <td>0.041457</td>\n",
       "    </tr>\n",
       "    <tr>\n",
       "      <th>0D_2</th>\n",
       "      <td>0.382492</td>\n",
       "    </tr>\n",
       "    <tr>\n",
       "      <th>0D_3</th>\n",
       "      <td>0.796721</td>\n",
       "    </tr>\n",
       "    <tr>\n",
       "      <th>3D_1</th>\n",
       "      <td>0.169890</td>\n",
       "    </tr>\n",
       "    <tr>\n",
       "      <th>3D_2</th>\n",
       "      <td>0.523419</td>\n",
       "    </tr>\n",
       "    <tr>\n",
       "      <th>3D_3</th>\n",
       "      <td>0.205621</td>\n",
       "    </tr>\n",
       "    <tr>\n",
       "      <th>4D_1</th>\n",
       "      <td>0.393315</td>\n",
       "    </tr>\n",
       "    <tr>\n",
       "      <th>4D_2</th>\n",
       "      <td>0.091583</td>\n",
       "    </tr>\n",
       "    <tr>\n",
       "      <th>4D_3</th>\n",
       "      <td>0.641776</td>\n",
       "    </tr>\n",
       "    <tr>\n",
       "      <th>6D_1</th>\n",
       "      <td>0.369146</td>\n",
       "    </tr>\n",
       "    <tr>\n",
       "      <th>6D_2</th>\n",
       "      <td>0.853150</td>\n",
       "    </tr>\n",
       "    <tr>\n",
       "      <th>6D_3</th>\n",
       "      <td>0.262755</td>\n",
       "    </tr>\n",
       "    <tr>\n",
       "      <th>8D_1</th>\n",
       "      <td>0.620126</td>\n",
       "    </tr>\n",
       "    <tr>\n",
       "      <th>8D_2</th>\n",
       "      <td>0.813334</td>\n",
       "    </tr>\n",
       "    <tr>\n",
       "      <th>8D_3</th>\n",
       "      <td>0.660290</td>\n",
       "    </tr>\n",
       "  </tbody>\n",
       "</table>\n",
       "</div>"
      ],
      "text/plain": [
       "          SOX2\n",
       "ID            \n",
       "0D_1  0.041457\n",
       "0D_2  0.382492\n",
       "0D_3  0.796721\n",
       "3D_1  0.169890\n",
       "3D_2  0.523419\n",
       "3D_3  0.205621\n",
       "4D_1  0.393315\n",
       "4D_2  0.091583\n",
       "4D_3  0.641776\n",
       "6D_1  0.369146\n",
       "6D_2  0.853150\n",
       "6D_3  0.262755\n",
       "8D_1  0.620126\n",
       "8D_2  0.813334\n",
       "8D_3  0.660290"
      ]
     },
     "execution_count": 18,
     "metadata": {},
     "output_type": "execute_result"
    }
   ],
   "source": [
    "pvalues = SOX2_numbers[['ID', 'SOX2']].groupby('ID').agg(lambda x: sp.stats.normaltest(x).pvalue)\n",
    "pvalues"
   ]
  },
  {
   "cell_type": "markdown",
   "metadata": {},
   "source": [
    "Minimal p-Value = 0.041 -> no strong indication for non-Gaussuian distribution of density in space"
   ]
  },
  {
   "cell_type": "markdown",
   "metadata": {},
   "source": [
    "# Constant in time"
   ]
  },
  {
   "cell_type": "code",
   "execution_count": 19,
   "metadata": {
    "collapsed": false
   },
   "outputs": [],
   "source": [
    "SOX2_space_mean = SOX2_numbers.groupby('ID').mean()"
   ]
  },
  {
   "cell_type": "code",
   "execution_count": 20,
   "metadata": {
    "collapsed": true
   },
   "outputs": [],
   "source": [
    "grouped = SOX2_space_mean.groupby('time')"
   ]
  },
  {
   "cell_type": "code",
   "execution_count": 21,
   "metadata": {
    "collapsed": true
   },
   "outputs": [],
   "source": [
    "samples = grouped.apply(lambda group: sp.array(group['SOX2'])).tolist()"
   ]
  },
  {
   "cell_type": "code",
   "execution_count": 22,
   "metadata": {
    "collapsed": false
   },
   "outputs": [
    {
     "data": {
      "text/plain": [
       "F_onewayResult(statistic=2.8942422926580331, pvalue=0.078743703075537991)"
      ]
     },
     "execution_count": 22,
     "metadata": {},
     "output_type": "execute_result"
    }
   ],
   "source": [
    "sp.stats.f_oneway(*samples)"
   ]
  },
  {
   "cell_type": "markdown",
   "metadata": {},
   "source": [
    "p-Value of 0.08 does not indicate significant difference between the samples from different time points."
   ]
  },
  {
   "cell_type": "code",
   "execution_count": 23,
   "metadata": {
    "collapsed": false
   },
   "outputs": [],
   "source": [
    "SOX2_space_time_mean = grouped.agg(['mean', 'sem']).reset_index()"
   ]
  },
  {
   "cell_type": "code",
   "execution_count": 24,
   "metadata": {
    "collapsed": false
   },
   "outputs": [
    {
     "data": {
      "image/svg+xml": [
       "<?xml version=\"1.0\" encoding=\"utf-8\" standalone=\"no\"?>\n",
       "<!DOCTYPE svg PUBLIC \"-//W3C//DTD SVG 1.1//EN\"\n",
       "  \"http://www.w3.org/Graphics/SVG/1.1/DTD/svg11.dtd\">\n",
       "<!-- Created with matplotlib (http://matplotlib.org/) -->\n",
       "<svg height=\"95pt\" version=\"1.1\" viewBox=\"0 0 90 95\" width=\"90pt\" xmlns=\"http://www.w3.org/2000/svg\" xmlns:xlink=\"http://www.w3.org/1999/xlink\">\n",
       " <defs>\n",
       "  <style type=\"text/css\">\n",
       "*{stroke-linecap:butt;stroke-linejoin:round;}\n",
       "  </style>\n",
       " </defs>\n",
       " <g id=\"figure_1\">\n",
       "  <g id=\"patch_1\">\n",
       "   <path d=\"\n",
       "M0 95.1213\n",
       "L90.0975 95.1213\n",
       "L90.0975 -1.42109e-14\n",
       "L0 -1.42109e-14\n",
       "L0 95.1213\" style=\"fill:none;\"/>\n",
       "  </g>\n",
       "  <g id=\"axes_1\">\n",
       "   <g id=\"patch_2\">\n",
       "    <path d=\"\n",
       "M27.9763 65.4813\n",
       "L82.8975 65.4813\n",
       "L82.8975 10.56\n",
       "L27.9763 10.56\n",
       "z\n",
       "\" style=\"fill:#ffffff;\"/>\n",
       "   </g>\n",
       "   <g id=\"PathCollection_1\">\n",
       "    <defs>\n",
       "     <path d=\"\n",
       "M0 1.58114\n",
       "C0.419323 1.58114 0.821528 1.41454 1.11803 1.11803\n",
       "C1.41454 0.821528 1.58114 0.419323 1.58114 0\n",
       "C1.58114 -0.419323 1.41454 -0.821528 1.11803 -1.11803\n",
       "C0.821528 -1.41454 0.419323 -1.58114 0 -1.58114\n",
       "C-0.419323 -1.58114 -0.821528 -1.41454 -1.11803 -1.11803\n",
       "C-1.41454 -0.821528 -1.58114 -0.419323 -1.58114 0\n",
       "C-1.58114 0.419323 -1.41454 0.821528 -1.11803 1.11803\n",
       "C-0.821528 1.41454 -0.419323 1.58114 0 1.58114\n",
       "z\n",
       "\" id=\"m8a826833e7\" style=\"stroke:#000000;\"/>\n",
       "    </defs>\n",
       "    <g clip-path=\"url(#pe5d168c9d2)\">\n",
       "     <use style=\"stroke:#000000;\" x=\"31.0274311024\" xlink:href=\"#m8a826833e7\" y=\"19.3866310461\"/>\n",
       "     <use style=\"stroke:#000000;\" x=\"31.0274311024\" xlink:href=\"#m8a826833e7\" y=\"29.2831567645\"/>\n",
       "     <use style=\"stroke:#000000;\" x=\"31.0274311024\" xlink:href=\"#m8a826833e7\" y=\"36.1483142448\"/>\n",
       "     <use style=\"stroke:#000000;\" x=\"49.3345177165\" xlink:href=\"#m8a826833e7\" y=\"36.8764370079\"/>\n",
       "     <use style=\"stroke:#000000;\" x=\"49.3345177165\" xlink:href=\"#m8a826833e7\" y=\"61.8852249719\"/>\n",
       "     <use style=\"stroke:#000000;\" x=\"49.3345177165\" xlink:href=\"#m8a826833e7\" y=\"49.1765108268\"/>\n",
       "     <use style=\"stroke:#000000;\" x=\"55.4368799213\" xlink:href=\"#m8a826833e7\" y=\"40.5498984666\"/>\n",
       "     <use style=\"stroke:#000000;\" x=\"55.4368799213\" xlink:href=\"#m8a826833e7\" y=\"47.1741732283\"/>\n",
       "     <use style=\"stroke:#000000;\" x=\"55.4368799213\" xlink:href=\"#m8a826833e7\" y=\"27.5594375703\"/>\n",
       "     <use style=\"stroke:#000000;\" x=\"67.6416043307\" xlink:href=\"#m8a826833e7\" y=\"26.221140502\"/>\n",
       "     <use style=\"stroke:#000000;\" x=\"67.6416043307\" xlink:href=\"#m8a826833e7\" y=\"24.2903149606\"/>\n",
       "     <use style=\"stroke:#000000;\" x=\"67.6416043307\" xlink:href=\"#m8a826833e7\" y=\"39.7369192913\"/>\n",
       "     <use style=\"stroke:#000000;\" x=\"79.8463287402\" xlink:href=\"#m8a826833e7\" y=\"29.248484252\"/>\n",
       "     <use style=\"stroke:#000000;\" x=\"79.8463287402\" xlink:href=\"#m8a826833e7\" y=\"32.871761811\"/>\n",
       "     <use style=\"stroke:#000000;\" x=\"79.8463287402\" xlink:href=\"#m8a826833e7\" y=\"27.0987884753\"/>\n",
       "    </g>\n",
       "   </g>\n",
       "   <g id=\"PolyCollection_1\">\n",
       "    <defs>\n",
       "     <path d=\"\n",
       "M27.9763 -51.1001\n",
       "L27.9763 -68.8081\n",
       "L82.8975 -68.8081\n",
       "L82.8975 -51.1001\n",
       "L82.8975 -51.1001\n",
       "L27.9763 -51.1001\n",
       "z\n",
       "\" id=\"m659e8fa299\" style=\"stroke:#000000;stroke-opacity:0.2;\"/>\n",
       "    </defs>\n",
       "    <g clip-path=\"url(#pe5d168c9d2)\">\n",
       "     <use style=\"fill-opacity:0.2;stroke:#000000;stroke-opacity:0.2;\" x=\"0.0\" xlink:href=\"#m659e8fa299\" y=\"95.1212598425\"/>\n",
       "    </g>\n",
       "   </g>\n",
       "   <g id=\"line2d_1\">\n",
       "    <path clip-path=\"url(#pe5d168c9d2)\" d=\"\n",
       "M27.9763 35.1671\n",
       "L82.8975 35.1671\" style=\"fill:none;stroke:#000000;stroke-linecap:square;\"/>\n",
       "   </g>\n",
       "   <g id=\"patch_3\">\n",
       "    <path d=\"\n",
       "M27.9763 10.56\n",
       "L82.8975 10.56\" style=\"fill:none;stroke:#000000;stroke-linecap:square;stroke-linejoin:miter;\"/>\n",
       "   </g>\n",
       "   <g id=\"patch_4\">\n",
       "    <path d=\"\n",
       "M82.8975 65.4813\n",
       "L82.8975 10.56\" style=\"fill:none;stroke:#000000;stroke-linecap:square;stroke-linejoin:miter;\"/>\n",
       "   </g>\n",
       "   <g id=\"patch_5\">\n",
       "    <path d=\"\n",
       "M27.9763 65.4813\n",
       "L82.8975 65.4813\" style=\"fill:none;stroke:#000000;stroke-linecap:square;stroke-linejoin:miter;\"/>\n",
       "   </g>\n",
       "   <g id=\"patch_6\">\n",
       "    <path d=\"\n",
       "M27.9763 65.4813\n",
       "L27.9763 10.56\" style=\"fill:none;stroke:#000000;stroke-linecap:square;stroke-linejoin:miter;\"/>\n",
       "   </g>\n",
       "   <g id=\"matplotlib.axis_1\">\n",
       "    <g id=\"xtick_1\">\n",
       "     <g id=\"line2d_2\">\n",
       "      <defs>\n",
       "       <path d=\"\n",
       "M0 0\n",
       "L0 -4\" id=\"m93b0483c22\" style=\"stroke:#000000;stroke-width:0.5;\"/>\n",
       "      </defs>\n",
       "      <g>\n",
       "       <use style=\"stroke:#000000;stroke-width:0.5;\" x=\"31.0274311024\" xlink:href=\"#m93b0483c22\" y=\"65.4812598425\"/>\n",
       "      </g>\n",
       "     </g>\n",
       "     <g id=\"line2d_3\">\n",
       "      <defs>\n",
       "       <path d=\"\n",
       "M0 0\n",
       "L0 4\" id=\"m741efc42ff\" style=\"stroke:#000000;stroke-width:0.5;\"/>\n",
       "      </defs>\n",
       "      <g>\n",
       "       <use style=\"stroke:#000000;stroke-width:0.5;\" x=\"31.0274311024\" xlink:href=\"#m741efc42ff\" y=\"10.56\"/>\n",
       "      </g>\n",
       "     </g>\n",
       "     <g id=\"text_1\">\n",
       "      <text style=\"font-family:Helvetica LT Std;font-size:8.0px;font-style:normal;text-anchor:middle;\" transform=\"rotate(-0.000000, 31.027431, 75.177510)\" x=\"31.0274311024\" y=\"75.1775098425\">0</text>\n",
       "     </g>\n",
       "    </g>\n",
       "    <g id=\"xtick_2\">\n",
       "     <g id=\"line2d_4\">\n",
       "      <g>\n",
       "       <use style=\"stroke:#000000;stroke-width:0.5;\" x=\"43.2321555118\" xlink:href=\"#m93b0483c22\" y=\"65.4812598425\"/>\n",
       "      </g>\n",
       "     </g>\n",
       "     <g id=\"line2d_5\">\n",
       "      <g>\n",
       "       <use style=\"stroke:#000000;stroke-width:0.5;\" x=\"43.2321555118\" xlink:href=\"#m741efc42ff\" y=\"10.56\"/>\n",
       "      </g>\n",
       "     </g>\n",
       "     <g id=\"text_2\">\n",
       "      <text style=\"font-family:Helvetica LT Std;font-size:8.0px;font-style:normal;text-anchor:middle;\" transform=\"rotate(-0.000000, 43.232156, 75.177510)\" x=\"43.2321555118\" y=\"75.1775098425\">2</text>\n",
       "     </g>\n",
       "    </g>\n",
       "    <g id=\"xtick_3\">\n",
       "     <g id=\"line2d_6\">\n",
       "      <g>\n",
       "       <use style=\"stroke:#000000;stroke-width:0.5;\" x=\"55.4368799213\" xlink:href=\"#m93b0483c22\" y=\"65.4812598425\"/>\n",
       "      </g>\n",
       "     </g>\n",
       "     <g id=\"line2d_7\">\n",
       "      <g>\n",
       "       <use style=\"stroke:#000000;stroke-width:0.5;\" x=\"55.4368799213\" xlink:href=\"#m741efc42ff\" y=\"10.56\"/>\n",
       "      </g>\n",
       "     </g>\n",
       "     <g id=\"text_3\">\n",
       "      <text style=\"font-family:Helvetica LT Std;font-size:8.0px;font-style:normal;text-anchor:middle;\" transform=\"rotate(-0.000000, 55.436880, 75.177510)\" x=\"55.4368799213\" y=\"75.1775098425\">4</text>\n",
       "     </g>\n",
       "    </g>\n",
       "    <g id=\"xtick_4\">\n",
       "     <g id=\"line2d_8\">\n",
       "      <g>\n",
       "       <use style=\"stroke:#000000;stroke-width:0.5;\" x=\"67.6416043307\" xlink:href=\"#m93b0483c22\" y=\"65.4812598425\"/>\n",
       "      </g>\n",
       "     </g>\n",
       "     <g id=\"line2d_9\">\n",
       "      <g>\n",
       "       <use style=\"stroke:#000000;stroke-width:0.5;\" x=\"67.6416043307\" xlink:href=\"#m741efc42ff\" y=\"10.56\"/>\n",
       "      </g>\n",
       "     </g>\n",
       "     <g id=\"text_4\">\n",
       "      <text style=\"font-family:Helvetica LT Std;font-size:8.0px;font-style:normal;text-anchor:middle;\" transform=\"rotate(-0.000000, 67.641604, 75.177510)\" x=\"67.6416043307\" y=\"75.1775098425\">6</text>\n",
       "     </g>\n",
       "    </g>\n",
       "    <g id=\"xtick_5\">\n",
       "     <g id=\"line2d_10\">\n",
       "      <g>\n",
       "       <use style=\"stroke:#000000;stroke-width:0.5;\" x=\"79.8463287402\" xlink:href=\"#m93b0483c22\" y=\"65.4812598425\"/>\n",
       "      </g>\n",
       "     </g>\n",
       "     <g id=\"line2d_11\">\n",
       "      <g>\n",
       "       <use style=\"stroke:#000000;stroke-width:0.5;\" x=\"79.8463287402\" xlink:href=\"#m741efc42ff\" y=\"10.56\"/>\n",
       "      </g>\n",
       "     </g>\n",
       "     <g id=\"text_5\">\n",
       "      <text style=\"font-family:Helvetica LT Std;font-size:8.0px;font-style:normal;text-anchor:middle;\" transform=\"rotate(-0.000000, 79.846329, 75.177510)\" x=\"79.8463287402\" y=\"75.1775098425\">8</text>\n",
       "     </g>\n",
       "    </g>\n",
       "    <g id=\"text_6\">\n",
       "     <text style=\"font-family:Helvetica LT Std;font-size:8.0px;font-style:normal;text-anchor:middle;\" transform=\"rotate(-0.000000, 55.436880, 86.897510)\" x=\"55.4368799213\" y=\"86.8975098425\">Time (days)</text>\n",
       "    </g>\n",
       "   </g>\n",
       "   <g id=\"matplotlib.axis_2\">\n",
       "    <g id=\"ytick_1\">\n",
       "     <g id=\"line2d_12\">\n",
       "      <defs>\n",
       "       <path d=\"\n",
       "M0 0\n",
       "L4 0\" id=\"m728421d6d4\" style=\"stroke:#000000;stroke-width:0.5;\"/>\n",
       "      </defs>\n",
       "      <g>\n",
       "       <use style=\"stroke:#000000;stroke-width:0.5;\" x=\"27.97625\" xlink:href=\"#m728421d6d4\" y=\"65.4812598425\"/>\n",
       "      </g>\n",
       "     </g>\n",
       "     <g id=\"line2d_13\">\n",
       "      <defs>\n",
       "       <path d=\"\n",
       "M0 0\n",
       "L-4 0\" id=\"mcb0005524f\" style=\"stroke:#000000;stroke-width:0.5;\"/>\n",
       "      </defs>\n",
       "      <g>\n",
       "       <use style=\"stroke:#000000;stroke-width:0.5;\" x=\"82.8975098425\" xlink:href=\"#mcb0005524f\" y=\"65.4812598425\"/>\n",
       "      </g>\n",
       "     </g>\n",
       "     <g id=\"text_7\">\n",
       "      <text style=\"font-family:Helvetica LT Std;font-size:8.0px;font-style:normal;text-anchor:end;\" transform=\"rotate(-0.000000, 23.976250, 67.817510)\" x=\"23.97625\" y=\"67.8175098425\">26</text>\n",
       "     </g>\n",
       "    </g>\n",
       "    <g id=\"ytick_2\">\n",
       "     <g id=\"line2d_14\">\n",
       "      <g>\n",
       "       <use style=\"stroke:#000000;stroke-width:0.5;\" x=\"27.97625\" xlink:href=\"#m728421d6d4\" y=\"51.7509448819\"/>\n",
       "      </g>\n",
       "     </g>\n",
       "     <g id=\"line2d_15\">\n",
       "      <g>\n",
       "       <use style=\"stroke:#000000;stroke-width:0.5;\" x=\"82.8975098425\" xlink:href=\"#mcb0005524f\" y=\"51.7509448819\"/>\n",
       "      </g>\n",
       "     </g>\n",
       "     <g id=\"text_8\">\n",
       "      <text style=\"font-family:Helvetica LT Std;font-size:8.0px;font-style:normal;text-anchor:end;\" transform=\"rotate(-0.000000, 23.976250, 54.087195)\" x=\"23.97625\" y=\"54.0871948819\">28</text>\n",
       "     </g>\n",
       "    </g>\n",
       "    <g id=\"ytick_3\">\n",
       "     <g id=\"line2d_16\">\n",
       "      <g>\n",
       "       <use style=\"stroke:#000000;stroke-width:0.5;\" x=\"27.97625\" xlink:href=\"#m728421d6d4\" y=\"38.0206299213\"/>\n",
       "      </g>\n",
       "     </g>\n",
       "     <g id=\"line2d_17\">\n",
       "      <g>\n",
       "       <use style=\"stroke:#000000;stroke-width:0.5;\" x=\"82.8975098425\" xlink:href=\"#mcb0005524f\" y=\"38.0206299213\"/>\n",
       "      </g>\n",
       "     </g>\n",
       "     <g id=\"text_9\">\n",
       "      <text style=\"font-family:Helvetica LT Std;font-size:8.0px;font-style:normal;text-anchor:end;\" transform=\"rotate(-0.000000, 23.976250, 40.356880)\" x=\"23.97625\" y=\"40.3568799213\">30</text>\n",
       "     </g>\n",
       "    </g>\n",
       "    <g id=\"ytick_4\">\n",
       "     <g id=\"line2d_18\">\n",
       "      <g>\n",
       "       <use style=\"stroke:#000000;stroke-width:0.5;\" x=\"27.97625\" xlink:href=\"#m728421d6d4\" y=\"24.2903149606\"/>\n",
       "      </g>\n",
       "     </g>\n",
       "     <g id=\"line2d_19\">\n",
       "      <g>\n",
       "       <use style=\"stroke:#000000;stroke-width:0.5;\" x=\"82.8975098425\" xlink:href=\"#mcb0005524f\" y=\"24.2903149606\"/>\n",
       "      </g>\n",
       "     </g>\n",
       "     <g id=\"text_10\">\n",
       "      <text style=\"font-family:Helvetica LT Std;font-size:8.0px;font-style:normal;text-anchor:end;\" transform=\"rotate(-0.000000, 23.976250, 26.626565)\" x=\"23.97625\" y=\"26.6265649606\">32</text>\n",
       "     </g>\n",
       "    </g>\n",
       "    <g id=\"ytick_5\">\n",
       "     <g id=\"line2d_20\">\n",
       "      <g>\n",
       "       <use style=\"stroke:#000000;stroke-width:0.5;\" x=\"27.97625\" xlink:href=\"#m728421d6d4\" y=\"10.56\"/>\n",
       "      </g>\n",
       "     </g>\n",
       "     <g id=\"line2d_21\">\n",
       "      <g>\n",
       "       <use style=\"stroke:#000000;stroke-width:0.5;\" x=\"82.8975098425\" xlink:href=\"#mcb0005524f\" y=\"10.56\"/>\n",
       "      </g>\n",
       "     </g>\n",
       "     <g id=\"text_11\">\n",
       "      <text style=\"font-family:Helvetica LT Std;font-size:8.0px;font-style:normal;text-anchor:end;\" transform=\"rotate(-0.000000, 23.976250, 12.896250)\" x=\"23.97625\" y=\"12.89625\">34</text>\n",
       "     </g>\n",
       "    </g>\n",
       "    <g id=\"ytick_6\">\n",
       "     <g id=\"line2d_22\">\n",
       "      <defs>\n",
       "       <path d=\"\n",
       "M0 0\n",
       "L2 0\" id=\"mf0c55a9a47\" style=\"stroke:#000000;stroke-width:0.5;\"/>\n",
       "      </defs>\n",
       "      <g>\n",
       "       <use style=\"stroke:#000000;stroke-width:0.5;\" x=\"27.97625\" xlink:href=\"#mf0c55a9a47\" y=\"58.6161023622\"/>\n",
       "      </g>\n",
       "     </g>\n",
       "     <g id=\"line2d_23\">\n",
       "      <defs>\n",
       "       <path d=\"\n",
       "M0 0\n",
       "L-2 0\" id=\"ma4f294b3af\" style=\"stroke:#000000;stroke-width:0.5;\"/>\n",
       "      </defs>\n",
       "      <g>\n",
       "       <use style=\"stroke:#000000;stroke-width:0.5;\" x=\"82.8975098425\" xlink:href=\"#ma4f294b3af\" y=\"58.6161023622\"/>\n",
       "      </g>\n",
       "     </g>\n",
       "    </g>\n",
       "    <g id=\"ytick_7\">\n",
       "     <g id=\"line2d_24\">\n",
       "      <g>\n",
       "       <use style=\"stroke:#000000;stroke-width:0.5;\" x=\"27.97625\" xlink:href=\"#mf0c55a9a47\" y=\"44.8857874016\"/>\n",
       "      </g>\n",
       "     </g>\n",
       "     <g id=\"line2d_25\">\n",
       "      <g>\n",
       "       <use style=\"stroke:#000000;stroke-width:0.5;\" x=\"82.8975098425\" xlink:href=\"#ma4f294b3af\" y=\"44.8857874016\"/>\n",
       "      </g>\n",
       "     </g>\n",
       "    </g>\n",
       "    <g id=\"ytick_8\">\n",
       "     <g id=\"line2d_26\">\n",
       "      <g>\n",
       "       <use style=\"stroke:#000000;stroke-width:0.5;\" x=\"27.97625\" xlink:href=\"#mf0c55a9a47\" y=\"31.1554724409\"/>\n",
       "      </g>\n",
       "     </g>\n",
       "     <g id=\"line2d_27\">\n",
       "      <g>\n",
       "       <use style=\"stroke:#000000;stroke-width:0.5;\" x=\"82.8975098425\" xlink:href=\"#ma4f294b3af\" y=\"31.1554724409\"/>\n",
       "      </g>\n",
       "     </g>\n",
       "    </g>\n",
       "    <g id=\"ytick_9\">\n",
       "     <g id=\"line2d_28\">\n",
       "      <g>\n",
       "       <use style=\"stroke:#000000;stroke-width:0.5;\" x=\"27.97625\" xlink:href=\"#mf0c55a9a47\" y=\"17.4251574803\"/>\n",
       "      </g>\n",
       "     </g>\n",
       "     <g id=\"line2d_29\">\n",
       "      <g>\n",
       "       <use style=\"stroke:#000000;stroke-width:0.5;\" x=\"82.8975098425\" xlink:href=\"#ma4f294b3af\" y=\"17.4251574803\"/>\n",
       "      </g>\n",
       "     </g>\n",
       "    </g>\n",
       "    <g id=\"text_12\">\n",
       "     <text style=\"font-family:Helvetica LT Std;font-size:8.0px;font-style:normal;text-anchor:middle;\" transform=\"rotate(-90.000000, 12.896250, 38.020630)\" x=\"12.89625\" y=\"38.0206299213\"># SOX2+ cells</text>\n",
       "    </g>\n",
       "   </g>\n",
       "  </g>\n",
       " </g>\n",
       " <defs>\n",
       "  <clipPath id=\"pe5d168c9d2\">\n",
       "   <rect height=\"54.9212598425\" width=\"54.9212598425\" x=\"27.97625\" y=\"10.56\"/>\n",
       "  </clipPath>\n",
       " </defs>\n",
       "</svg>\n"
      ],
      "text/plain": [
       "<matplotlib.figure.Figure at 0x7f3b0c5a1350>"
      ]
     },
     "metadata": {},
     "output_type": "display_data"
    }
   ],
   "source": [
    "fig, ax = plt.subplots(figsize=(25.0 / 25.4, 25.0 / 25.4))\n",
    "# plt.errorbar(sp.array(SOX2_space_time_mean['time']),\\\n",
    "#              sp.array(SOX2_space_time_mean['SOX2', 'mean']),\\\n",
    "#              sp.array(SOX2_space_time_mean['SOX2', 'sem']),\\\n",
    "#              fmt = 'o', color = 'black')\n",
    "ax.scatter(SOX2_space_mean['time'], SOX2_space_mean['SOX2'], color = 'black', s = 10)\n",
    "ax.plot([-0.5, 8.5], 2 * [SOX2_space_time_mean['SOX2', 'mean'].mean()], color = 'black')\n",
    "ax.fill_between([-0.5, 8.5], 2 * [SOX2_space_time_mean['SOX2', 'mean'].mean() + SOX2_space_time_mean['SOX2', 'mean'].std()], 2 * [SOX2_space_time_mean['SOX2', 'mean'].mean() - SOX2_space_time_mean['SOX2', 'mean'].std()], alpha = 0.2, color = 'black', label = 'conf.belt')\n",
    "\n",
    "ax.set_xlim(-0.5, 8.5)\n",
    "ax.set_xlabel('Time (days)')\n",
    "ax.set_ylabel('# SOX2+ cells')\n",
    "\n",
    "ax.set_yticks(sp.arange(26, 35, 2))\n",
    "ax.set_yticks(sp.arange(26, 35, 2)+1, minor = True)\n",
    "ax.set_ylim(26, 34)\n",
    "\n",
    "plt.savefig('../../figure_plots/Fig2_stem_cells_time.svg')\n",
    "plt.show()"
   ]
  },
  {
   "cell_type": "markdown",
   "metadata": {
    "collapsed": true
   },
   "source": [
    "## Calculate mean density"
   ]
  },
  {
   "cell_type": "code",
   "execution_count": 25,
   "metadata": {
    "collapsed": false
   },
   "outputs": [
    {
     "data": {
      "text/plain": [
       "30.41564723044986"
      ]
     },
     "execution_count": 25,
     "metadata": {},
     "output_type": "execute_result"
    }
   ],
   "source": [
    "Nsection = SOX2_space_time_mean['SOX2', 'mean'].mean()\n",
    "Nsection"
   ]
  },
  {
   "cell_type": "code",
   "execution_count": 26,
   "metadata": {
    "collapsed": false
   },
   "outputs": [
    {
     "data": {
      "text/plain": [
       "0.57676964393245478"
      ]
     },
     "execution_count": 26,
     "metadata": {},
     "output_type": "execute_result"
    }
   ],
   "source": [
    "Nsection_sem = SOX2_space_time_mean['SOX2', 'mean'].sem()\n",
    "Nsection_sem"
   ]
  },
  {
   "cell_type": "code",
   "execution_count": 27,
   "metadata": {
    "collapsed": false
   },
   "outputs": [],
   "source": [
    "# see Rodrigo Albos et al., 2015\n",
    "lcell = 13.2\n",
    "lcell_sem = 0.1"
   ]
  },
  {
   "cell_type": "code",
   "execution_count": 28,
   "metadata": {
    "collapsed": false
   },
   "outputs": [
    {
     "data": {
      "text/plain": [
       "2.304215699276505"
      ]
     },
     "execution_count": 28,
     "metadata": {},
     "output_type": "execute_result"
    }
   ],
   "source": [
    "rho = Nsection / lcell\n",
    "rho"
   ]
  },
  {
   "cell_type": "code",
   "execution_count": 29,
   "metadata": {
    "collapsed": false
   },
   "outputs": [
    {
     "data": {
      "text/plain": [
       "0.061150849534856465"
      ]
     },
     "execution_count": 29,
     "metadata": {},
     "output_type": "execute_result"
    }
   ],
   "source": [
    "rho_ci = rho * (lcell_sem / lcell + Nsection_sem / Nsection)\n",
    "rho_ci"
   ]
  },
  {
   "cell_type": "code",
   "execution_count": null,
   "metadata": {
    "collapsed": true
   },
   "outputs": [],
   "source": []
  }
 ],
 "metadata": {
  "kernelspec": {
   "display_name": "Python 2",
   "language": "python",
   "name": "python2"
  },
  "language_info": {
   "codemirror_mode": {
    "name": "ipython",
    "version": 2
   },
   "file_extension": ".py",
   "mimetype": "text/x-python",
   "name": "python",
   "nbconvert_exporter": "python",
   "pygments_lexer": "ipython2",
   "version": "2.7.11"
  }
 },
 "nbformat": 4,
 "nbformat_minor": 0
}
