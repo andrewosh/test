{
 "cells": [
  {
   "cell_type": "markdown",
   "metadata": {},
   "source": [
    "The databases created by pymc contain lots of information that are not used for our analysis. To provide the relevant information online, we extract it and store it in pandas dataframes."
   ]
  },
  {
   "cell_type": "code",
   "execution_count": 1,
   "metadata": {
    "collapsed": true
   },
   "outputs": [],
   "source": [
    "import pymc\n",
    "import pandas as pd\n",
    "import os"
   ]
  },
  {
   "cell_type": "code",
   "execution_count": 2,
   "metadata": {
    "collapsed": true
   },
   "outputs": [],
   "source": [
    "traces_path = './results/cell_number_data_160420T151934_10000000/'"
   ]
  },
  {
   "cell_type": "code",
   "execution_count": 3,
   "metadata": {
    "collapsed": true
   },
   "outputs": [],
   "source": [
    "columns = ['GF_left_pop', 'GF_right_pop', 'step_GF',  'mi_left_pop', 'mi_right_pop', 'step_mi',\n",
    "               'switchpoint_pop', 'GF_sigma_inter', 'mi_sigma_inter', 'switchpoint_sigma_inter', 'deviance']"
   ]
  },
  {
   "cell_type": "code",
   "execution_count": 4,
   "metadata": {
    "collapsed": false
   },
   "outputs": [],
   "source": [
    "for i in [0, 3, 4, 6, 8]:\n",
    "    db = pymc.database.hdf5.load(os.path.join(traces_path, '{}.hdf5'.format(i)))\n",
    "    df = pd.DataFrame()\n",
    "    for column in columns:\n",
    "        df[column] = db.trace(column)()\n",
    "    df.to_hdf('./traces/{}.h5'.format(i), 'traces', comblib = 'blosc', complevel = 9)"
   ]
  }
 ],
 "metadata": {
  "kernelspec": {
   "display_name": "Python 2",
   "language": "python",
   "name": "python2"
  },
  "language_info": {
   "codemirror_mode": {
    "name": "ipython",
    "version": 2
   },
   "file_extension": ".py",
   "mimetype": "text/x-python",
   "name": "python",
   "nbconvert_exporter": "python",
   "pygments_lexer": "ipython2",
   "version": "2.7.11"
  }
 },
 "nbformat": 4,
 "nbformat_minor": 0
}
