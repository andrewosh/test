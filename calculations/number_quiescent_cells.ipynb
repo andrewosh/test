{
 "cells": [
  {
   "cell_type": "markdown",
   "metadata": {},
   "source": [
    "# Estimation of the number of quiescent cells"
   ]
  },
  {
   "cell_type": "markdown",
   "metadata": {},
   "source": [
    "Adding intra and interexperimental error. In the future maybe better do bootstrapping."
   ]
  },
  {
   "cell_type": "code",
   "execution_count": 18,
   "metadata": {
    "collapsed": true
   },
   "outputs": [],
   "source": [
    "import pandas as pd\n",
    "import scipy as sp\n",
    "from scipy import stats\n",
    "import matplotlib.pyplot as plt\n",
    "%matplotlib inline\n",
    "%config InlineBackend.figure_format = 'svg'\n",
    "exec(open('settings.py').read(), globals())"
   ]
  },
  {
   "cell_type": "code",
   "execution_count": 19,
   "metadata": {
    "collapsed": false
   },
   "outputs": [],
   "source": [
    "cell_numbers = pd.read_csv('../data/cell_number_data.csv')\n",
    "outgrowth = pd.read_csv('../data/outgrowth.csv')"
   ]
  },
  {
   "cell_type": "code",
   "execution_count": 20,
   "metadata": {
    "collapsed": true
   },
   "outputs": [],
   "source": [
    "lcell = 13.2\n",
    "lcell_sem = 0.1"
   ]
  },
  {
   "cell_type": "code",
   "execution_count": 21,
   "metadata": {
    "collapsed": true
   },
   "outputs": [],
   "source": [
    "L0 = 800.0"
   ]
  },
  {
   "cell_type": "code",
   "execution_count": 22,
   "metadata": {
    "collapsed": false
   },
   "outputs": [],
   "source": [
    "cell_numbers = cell_numbers.query('pos > -@L0')"
   ]
  },
  {
   "cell_type": "code",
   "execution_count": 23,
   "metadata": {
    "collapsed": true
   },
   "outputs": [],
   "source": [
    "cell_numbers['quiescent'] = cell_numbers['SOX2'] - cell_numbers['PCNA']"
   ]
  },
  {
   "cell_type": "code",
   "execution_count": 31,
   "metadata": {
    "collapsed": false
   },
   "outputs": [],
   "source": [
    "cell_numbers_space_mean = cell_numbers[['ID', 'time', 'quiescent']].groupby('ID').agg({'time': ['mean'], 'quiescent': ['mean', 'sem']})"
   ]
  },
  {
   "cell_type": "code",
   "execution_count": 32,
   "metadata": {
    "collapsed": false
   },
   "outputs": [],
   "source": [
    "cell_numbers_mean = cell_numbers_space_mean.groupby([('time', 'mean')]).agg({('quiescent', 'mean'): ['mean', 'sem'], ('quiescent', 'sem'): ['mean']})"
   ]
  },
  {
   "cell_type": "code",
   "execution_count": 33,
   "metadata": {
    "collapsed": false
   },
   "outputs": [],
   "source": [
    "cell_numbers_mean['quiescent_delta'] = cell_numbers_mean['quiescent', 'mean', 'sem'] + cell_numbers_mean['quiescent', 'sem', 'mean']\n",
    "cell_numbers_mean.index.name = 'time'"
   ]
  },
  {
   "cell_type": "code",
   "execution_count": 34,
   "metadata": {
    "collapsed": false
   },
   "outputs": [],
   "source": [
    "cell_numbers_mean['outgrowth'] = outgrowth.groupby('time').mean()['length']\n",
    "cell_numbers_mean['outgrowth_sem'] = outgrowth.groupby('time').sem()['length']"
   ]
  },
  {
   "cell_type": "code",
   "execution_count": 35,
   "metadata": {
    "collapsed": false
   },
   "outputs": [
    {
     "data": {
      "text/html": [
       "<div>\n",
       "<table border=\"1\" class=\"dataframe\">\n",
       "  <thead>\n",
       "    <tr>\n",
       "      <th></th>\n",
       "      <th colspan=\"2\" halign=\"left\">quiescent</th>\n",
       "      <th>time</th>\n",
       "      <th>outgrowth</th>\n",
       "      <th>outgrowth_sem</th>\n",
       "    </tr>\n",
       "    <tr>\n",
       "      <th></th>\n",
       "      <th>mean</th>\n",
       "      <th>sem</th>\n",
       "      <th>mean</th>\n",
       "      <th></th>\n",
       "      <th></th>\n",
       "    </tr>\n",
       "    <tr>\n",
       "      <th>ID</th>\n",
       "      <th></th>\n",
       "      <th></th>\n",
       "      <th></th>\n",
       "      <th></th>\n",
       "      <th></th>\n",
       "    </tr>\n",
       "  </thead>\n",
       "  <tbody>\n",
       "    <tr>\n",
       "      <th>0D_1</th>\n",
       "      <td>4.000000</td>\n",
       "      <td>1.080123</td>\n",
       "      <td>0</td>\n",
       "      <td>0.000000</td>\n",
       "      <td>0.000000</td>\n",
       "    </tr>\n",
       "    <tr>\n",
       "      <th>0D_2</th>\n",
       "      <td>2.714286</td>\n",
       "      <td>0.892143</td>\n",
       "      <td>0</td>\n",
       "      <td>0.000000</td>\n",
       "      <td>0.000000</td>\n",
       "    </tr>\n",
       "    <tr>\n",
       "      <th>0D_3</th>\n",
       "      <td>5.142857</td>\n",
       "      <td>1.121830</td>\n",
       "      <td>0</td>\n",
       "      <td>0.000000</td>\n",
       "      <td>0.000000</td>\n",
       "    </tr>\n",
       "    <tr>\n",
       "      <th>3D_1</th>\n",
       "      <td>3.500000</td>\n",
       "      <td>0.823754</td>\n",
       "      <td>3</td>\n",
       "      <td>163.285714</td>\n",
       "      <td>20.836911</td>\n",
       "    </tr>\n",
       "    <tr>\n",
       "      <th>3D_2</th>\n",
       "      <td>1.416667</td>\n",
       "      <td>0.483960</td>\n",
       "      <td>3</td>\n",
       "      <td>163.285714</td>\n",
       "      <td>20.836911</td>\n",
       "    </tr>\n",
       "    <tr>\n",
       "      <th>3D_3</th>\n",
       "      <td>1.000000</td>\n",
       "      <td>0.308607</td>\n",
       "      <td>3</td>\n",
       "      <td>163.285714</td>\n",
       "      <td>20.836911</td>\n",
       "    </tr>\n",
       "    <tr>\n",
       "      <th>4D_1</th>\n",
       "      <td>0.200000</td>\n",
       "      <td>0.133333</td>\n",
       "      <td>4</td>\n",
       "      <td>451.750000</td>\n",
       "      <td>41.292402</td>\n",
       "    </tr>\n",
       "    <tr>\n",
       "      <th>4D_2</th>\n",
       "      <td>0.923077</td>\n",
       "      <td>0.287820</td>\n",
       "      <td>4</td>\n",
       "      <td>451.750000</td>\n",
       "      <td>41.292402</td>\n",
       "    </tr>\n",
       "    <tr>\n",
       "      <th>4D_3</th>\n",
       "      <td>1.066667</td>\n",
       "      <td>0.358126</td>\n",
       "      <td>4</td>\n",
       "      <td>451.750000</td>\n",
       "      <td>41.292402</td>\n",
       "    </tr>\n",
       "    <tr>\n",
       "      <th>6D_1</th>\n",
       "      <td>0.350000</td>\n",
       "      <td>0.150000</td>\n",
       "      <td>6</td>\n",
       "      <td>1278.500000</td>\n",
       "      <td>56.769899</td>\n",
       "    </tr>\n",
       "    <tr>\n",
       "      <th>6D_2</th>\n",
       "      <td>0.238095</td>\n",
       "      <td>0.117610</td>\n",
       "      <td>6</td>\n",
       "      <td>1278.500000</td>\n",
       "      <td>56.769899</td>\n",
       "    </tr>\n",
       "    <tr>\n",
       "      <th>6D_3</th>\n",
       "      <td>0.307692</td>\n",
       "      <td>0.307692</td>\n",
       "      <td>6</td>\n",
       "      <td>1278.500000</td>\n",
       "      <td>56.769899</td>\n",
       "    </tr>\n",
       "    <tr>\n",
       "      <th>8D_1</th>\n",
       "      <td>0.705882</td>\n",
       "      <td>0.340466</td>\n",
       "      <td>8</td>\n",
       "      <td>2257.250000</td>\n",
       "      <td>72.342872</td>\n",
       "    </tr>\n",
       "    <tr>\n",
       "      <th>8D_2</th>\n",
       "      <td>0.529412</td>\n",
       "      <td>0.228770</td>\n",
       "      <td>8</td>\n",
       "      <td>2257.250000</td>\n",
       "      <td>72.342872</td>\n",
       "    </tr>\n",
       "    <tr>\n",
       "      <th>8D_3</th>\n",
       "      <td>1.166667</td>\n",
       "      <td>0.440959</td>\n",
       "      <td>8</td>\n",
       "      <td>2257.250000</td>\n",
       "      <td>72.342872</td>\n",
       "    </tr>\n",
       "  </tbody>\n",
       "</table>\n",
       "</div>"
      ],
      "text/plain": [
       "     quiescent           time    outgrowth outgrowth_sem\n",
       "          mean       sem mean                           \n",
       "ID                                                      \n",
       "0D_1  4.000000  1.080123    0     0.000000      0.000000\n",
       "0D_2  2.714286  0.892143    0     0.000000      0.000000\n",
       "0D_3  5.142857  1.121830    0     0.000000      0.000000\n",
       "3D_1  3.500000  0.823754    3   163.285714     20.836911\n",
       "3D_2  1.416667  0.483960    3   163.285714     20.836911\n",
       "3D_3  1.000000  0.308607    3   163.285714     20.836911\n",
       "4D_1  0.200000  0.133333    4   451.750000     41.292402\n",
       "4D_2  0.923077  0.287820    4   451.750000     41.292402\n",
       "4D_3  1.066667  0.358126    4   451.750000     41.292402\n",
       "6D_1  0.350000  0.150000    6  1278.500000     56.769899\n",
       "6D_2  0.238095  0.117610    6  1278.500000     56.769899\n",
       "6D_3  0.307692  0.307692    6  1278.500000     56.769899\n",
       "8D_1  0.705882  0.340466    8  2257.250000     72.342872\n",
       "8D_2  0.529412  0.228770    8  2257.250000     72.342872\n",
       "8D_3  1.166667  0.440959    8  2257.250000     72.342872"
      ]
     },
     "execution_count": 35,
     "metadata": {},
     "output_type": "execute_result"
    }
   ],
   "source": [
    "for i, row in cell_numbers_space_mean.iterrows():\n",
    "    cell_numbers_space_mean.loc[i, 'outgrowth'] =     float(outgrowth.groupby('time').mean().loc[int(row['time'])])\n",
    "    cell_numbers_space_mean.loc[i, 'outgrowth_sem'] = float(outgrowth.groupby('time').sem()['length'].loc[int(row['time'])])\n",
    "cell_numbers_space_mean"
   ]
  },
  {
   "cell_type": "code",
   "execution_count": 36,
   "metadata": {
    "collapsed": false
   },
   "outputs": [],
   "source": [
    "Nq = pd.DataFrame(index = cell_numbers_mean.index)\n",
    "Nq['mean'] = (cell_numbers_mean['outgrowth'] + L0) / lcell * cell_numbers_mean['quiescent', 'mean', 'mean']\n",
    "Nq['delta'] = Nq['mean'] * (lcell_sem / lcell + cell_numbers_mean['outgrowth_sem'] / cell_numbers_mean['outgrowth'] + cell_numbers_mean['quiescent', 'mean', 'sem'] / cell_numbers_mean['quiescent', 'mean', 'mean'])\n",
    "Nq.loc[0, 'delta'] = Nq.loc[0, 'mean'] * ((lcell_sem / lcell + float(cell_numbers_mean.loc[0, ('quiescent', 'mean', 'sem')]) / cell_numbers_mean.loc[0, ('quiescent', 'mean', 'mean')]))"
   ]
  },
  {
   "cell_type": "code",
   "execution_count": 38,
   "metadata": {
    "collapsed": false
   },
   "outputs": [
    {
     "data": {
      "text/html": [
       "<div>\n",
       "<table border=\"1\" class=\"dataframe\">\n",
       "  <thead>\n",
       "    <tr style=\"text-align: right;\">\n",
       "      <th></th>\n",
       "      <th>mean</th>\n",
       "      <th>delta</th>\n",
       "    </tr>\n",
       "    <tr>\n",
       "      <th>time</th>\n",
       "      <th></th>\n",
       "      <th></th>\n",
       "    </tr>\n",
       "  </thead>\n",
       "  <tbody>\n",
       "    <tr>\n",
       "      <th>0</th>\n",
       "      <td>239.538240</td>\n",
       "      <td>44.328161</td>\n",
       "    </tr>\n",
       "    <tr>\n",
       "      <th>3</th>\n",
       "      <td>143.925265</td>\n",
       "      <td>75.889197</td>\n",
       "    </tr>\n",
       "    <tr>\n",
       "      <th>4</th>\n",
       "      <td>69.217463</td>\n",
       "      <td>32.282615</td>\n",
       "    </tr>\n",
       "    <tr>\n",
       "      <th>6</th>\n",
       "      <td>47.017536</td>\n",
       "      <td>7.580782</td>\n",
       "    </tr>\n",
       "    <tr>\n",
       "      <th>8</th>\n",
       "      <td>185.439258</td>\n",
       "      <td>51.345679</td>\n",
       "    </tr>\n",
       "  </tbody>\n",
       "</table>\n",
       "</div>"
      ],
      "text/plain": [
       "            mean      delta\n",
       "time                       \n",
       "0     239.538240  44.328161\n",
       "3     143.925265  75.889197\n",
       "4      69.217463  32.282615\n",
       "6      47.017536   7.580782\n",
       "8     185.439258  51.345679"
      ]
     },
     "execution_count": 38,
     "metadata": {},
     "output_type": "execute_result"
    }
   ],
   "source": [
    "Nq"
   ]
  },
  {
   "cell_type": "markdown",
   "metadata": {
    "collapsed": true
   },
   "source": [
    "## Check for significant differences"
   ]
  },
  {
   "cell_type": "markdown",
   "metadata": {},
   "source": [
    "Let $N_q$ be the total number of quiescent cells in the spatial zone reaching from $-800\\mu m$ to the posterior tip of the spinal cord and $l_{cell}$ the anteroposterior length of the cells, $N_{q,s}$ the mean number of quiescent cells per cross section and $L$ the outgrowth of the spinal cord and $L_0$ the source zone length. Then, the following euqation holds:\n",
    "\\begin{align}\n",
    "N_q = N_{q,s} \\frac{L + L_0}{l_{cell}}\n",
    "\\end{align}\n",
    "As $l_{cell}$ is constant (Rodrigo Albors, Tazaki et al., eLife, 2015) we test if \n",
    "\\begin{align}\n",
    "N_q \\cdot l_{cell} = N_{q,s} (L + L_0)\n",
    "\\end{align}\n",
    "is significantly different to infer if $N_q$ is significantly different."
   ]
  },
  {
   "cell_type": "code",
   "execution_count": 58,
   "metadata": {
    "collapsed": false
   },
   "outputs": [],
   "source": [
    "day = dict()\n",
    "for time in Nq.index:\n",
    "    day[time] = sp.array(cell_numbers_space_mean[cell_numbers_space_mean['time', 'mean'] == time]['quiescent', 'mean'])\n",
    "    day[time] = day[time] * (float(outgrowth.groupby('time').mean().loc[time]) + L0)"
   ]
  },
  {
   "cell_type": "markdown",
   "metadata": {},
   "source": [
    "ttest vs day0"
   ]
  },
  {
   "cell_type": "code",
   "execution_count": 67,
   "metadata": {
    "collapsed": false
   },
   "outputs": [
    {
     "name": "stdout",
     "output_type": "stream",
     "text": [
      "Day 0 vs Day 0: p = 1.00\n",
      "Day 0 vs Day 3: p = 0.25\n",
      "Day 0 vs Day 4: p = 0.03\n",
      "Day 0 vs Day 6: p = 0.01\n",
      "Day 0 vs Day 8: p = 0.43\n"
     ]
    }
   ],
   "source": [
    "for time in Nq.index:\n",
    "    print 'Day 0 vs Day {0}: p = {1:.2f}'.format(time, sp.stats.ttest_ind(day[0], day[time]).pvalue)"
   ]
  },
  {
   "cell_type": "markdown",
   "metadata": {},
   "source": [
    "## Plot"
   ]
  },
  {
   "cell_type": "code",
   "execution_count": 71,
   "metadata": {
    "collapsed": true
   },
   "outputs": [],
   "source": [
    "from matplotlib.markers import TICKDOWN\n",
    "\n",
    "def significance_bar(start,end,height,displaystring,linewidth = 1,markersize = 3,boxpad  =0.3,fontsize = 12,color = 'k'):\n",
    "    # draw a line with downticks at the ends\n",
    "    plt.plot([start,end],[height]*2,'-',color = color,lw=linewidth,marker = TICKDOWN,markeredgewidth=linewidth,markersize = markersize)\n",
    "    # draw the text with a bounding box covering up the line\n",
    "    plt.text(0.5*(start+end),height,displaystring,ha = 'center',va='center',size = fontsize)"
   ]
  },
  {
   "cell_type": "code",
   "execution_count": 85,
   "metadata": {
    "collapsed": false
   },
   "outputs": [
    {
     "data": {
      "image/svg+xml": [
       "<?xml version=\"1.0\" encoding=\"utf-8\" standalone=\"no\"?>\n",
       "<!DOCTYPE svg PUBLIC \"-//W3C//DTD SVG 1.1//EN\"\n",
       "  \"http://www.w3.org/Graphics/SVG/1.1/DTD/svg11.dtd\">\n",
       "<!-- Created with matplotlib (http://matplotlib.org/) -->\n",
       "<svg height=\"107pt\" version=\"1.1\" viewBox=\"0 0 96 107\" width=\"96pt\" xmlns=\"http://www.w3.org/2000/svg\" xmlns:xlink=\"http://www.w3.org/1999/xlink\">\n",
       " <defs>\n",
       "  <style type=\"text/css\">\n",
       "*{stroke-linecap:butt;stroke-linejoin:round;}\n",
       "  </style>\n",
       " </defs>\n",
       " <g id=\"figure_1\">\n",
       "  <g id=\"patch_1\">\n",
       "   <path d=\"\n",
       "M0 107.148\n",
       "L96.4637 107.148\n",
       "L96.4637 1.42109e-14\n",
       "L0 1.42109e-14\n",
       "L0 107.148\" style=\"fill:none;\"/>\n",
       "  </g>\n",
       "  <g id=\"axes_1\">\n",
       "   <g id=\"patch_2\">\n",
       "    <path d=\"\n",
       "M33.4637 77.508\n",
       "L89.2637 77.508\n",
       "L89.2637 7.2\n",
       "L33.4637 7.2\n",
       "z\n",
       "\" style=\"fill:#ffffff;\"/>\n",
       "   </g>\n",
       "   <g id=\"LineCollection_1\">\n",
       "    <path clip-path=\"url(#pdb7c92c7d5)\" d=\"\n",
       "M37.6191 40.4139\n",
       "L37.6191 23.5672\" style=\"fill:none;stroke:#000000;\"/>\n",
       "    <path clip-path=\"url(#pdb7c92c7d5)\" d=\"\n",
       "M55.4276 64.5797\n",
       "L55.4276 35.7385\" style=\"fill:none;stroke:#000000;\"/>\n",
       "    <path clip-path=\"url(#pdb7c92c7d5)\" d=\"\n",
       "M61.3637 70.4896\n",
       "L61.3637 58.2208\" style=\"fill:none;stroke:#000000;\"/>\n",
       "    <path clip-path=\"url(#pdb7c92c7d5)\" d=\"\n",
       "M73.2361 70.0142\n",
       "L73.2361 67.1331\" style=\"fill:none;stroke:#000000;\"/>\n",
       "    <path clip-path=\"url(#pdb7c92c7d5)\" d=\"\n",
       "M85.1084 52.0273\n",
       "L85.1084 32.5137\" style=\"fill:none;stroke:#000000;\"/>\n",
       "   </g>\n",
       "   <g id=\"line2d_1\">\n",
       "    <defs>\n",
       "     <path d=\"\n",
       "M3 1.83697e-16\n",
       "L-3 -1.83697e-16\" id=\"m81edfc9aba\" style=\"stroke:#000000;stroke-width:0.5;\"/>\n",
       "    </defs>\n",
       "    <g clip-path=\"url(#pdb7c92c7d5)\">\n",
       "     <use style=\"stroke:#000000;stroke-width:0.5;\" x=\"37.6190691489\" xlink:href=\"#m81edfc9aba\" y=\"40.4138642946\"/>\n",
       "     <use style=\"stroke:#000000;stroke-width:0.5;\" x=\"55.4275797872\" xlink:href=\"#m81edfc9aba\" y=\"64.5796761105\"/>\n",
       "     <use style=\"stroke:#000000;stroke-width:0.5;\" x=\"61.36375\" xlink:href=\"#m81edfc9aba\" y=\"70.4895803621\"/>\n",
       "     <use style=\"stroke:#000000;stroke-width:0.5;\" x=\"73.2360904255\" xlink:href=\"#m81edfc9aba\" y=\"70.0141641504\"/>\n",
       "     <use style=\"stroke:#000000;stroke-width:0.5;\" x=\"85.1084308511\" xlink:href=\"#m81edfc9aba\" y=\"52.0273206971\"/>\n",
       "    </g>\n",
       "   </g>\n",
       "   <g id=\"line2d_2\">\n",
       "    <g clip-path=\"url(#pdb7c92c7d5)\">\n",
       "     <use style=\"stroke:#000000;stroke-width:0.5;\" x=\"37.6190691489\" xlink:href=\"#m81edfc9aba\" y=\"23.5672462705\"/>\n",
       "     <use style=\"stroke:#000000;stroke-width:0.5;\" x=\"55.4275797872\" xlink:href=\"#m81edfc9aba\" y=\"35.7384995652\"/>\n",
       "     <use style=\"stroke:#000000;stroke-width:0.5;\" x=\"61.36375\" xlink:href=\"#m81edfc9aba\" y=\"58.2207904751\"/>\n",
       "     <use style=\"stroke:#000000;stroke-width:0.5;\" x=\"73.2360904255\" xlink:href=\"#m81edfc9aba\" y=\"67.1331390909\"/>\n",
       "     <use style=\"stroke:#000000;stroke-width:0.5;\" x=\"85.1084308511\" xlink:href=\"#m81edfc9aba\" y=\"32.5137423539\"/>\n",
       "    </g>\n",
       "   </g>\n",
       "   <g id=\"line2d_3\">\n",
       "    <path clip-path=\"url(#pdb7c92c7d5)\" d=\"\n",
       "M37.6191 31.9906\n",
       "L55.4276 50.1591\n",
       "L61.3637 64.3552\n",
       "L73.2361 68.5737\n",
       "L85.1084 42.2705\" style=\"fill:none;stroke:#000000;stroke-linecap:square;\"/>\n",
       "    <defs>\n",
       "     <path d=\"\n",
       "M0 2\n",
       "C0.530406 2 1.03916 1.78927 1.41421 1.41421\n",
       "C1.78927 1.03916 2 0.530406 2 0\n",
       "C2 -0.530406 1.78927 -1.03916 1.41421 -1.41421\n",
       "C1.03916 -1.78927 0.530406 -2 0 -2\n",
       "C-0.530406 -2 -1.03916 -1.78927 -1.41421 -1.41421\n",
       "C-1.78927 -1.03916 -2 -0.530406 -2 0\n",
       "C-2 0.530406 -1.78927 1.03916 -1.41421 1.41421\n",
       "C-1.03916 1.78927 -0.530406 2 0 2\n",
       "z\n",
       "\" id=\"m76eb5f4da3\" style=\"stroke:#000000;stroke-width:0.5;\"/>\n",
       "    </defs>\n",
       "    <g clip-path=\"url(#pdb7c92c7d5)\">\n",
       "     <use style=\"stroke:#000000;stroke-width:0.5;\" x=\"37.6190691489\" xlink:href=\"#m76eb5f4da3\" y=\"31.9905552826\"/>\n",
       "     <use style=\"stroke:#000000;stroke-width:0.5;\" x=\"55.4275797872\" xlink:href=\"#m76eb5f4da3\" y=\"50.1590878378\"/>\n",
       "     <use style=\"stroke:#000000;stroke-width:0.5;\" x=\"61.36375\" xlink:href=\"#m76eb5f4da3\" y=\"64.3551854186\"/>\n",
       "     <use style=\"stroke:#000000;stroke-width:0.5;\" x=\"73.2360904255\" xlink:href=\"#m76eb5f4da3\" y=\"68.5736516207\"/>\n",
       "     <use style=\"stroke:#000000;stroke-width:0.5;\" x=\"85.1084308511\" xlink:href=\"#m76eb5f4da3\" y=\"42.2705315255\"/>\n",
       "    </g>\n",
       "   </g>\n",
       "   <g id=\"line2d_4\">\n",
       "    <path clip-path=\"url(#pdb7c92c7d5)\" d=\"\n",
       "M37.6191 19.5514\n",
       "L61.3637 19.5514\" style=\"fill:none;stroke:#000000;stroke-linecap:square;\"/>\n",
       "    <defs>\n",
       "     <path d=\"\n",
       "M0 0\n",
       "L0 3\" id=\"m2faa5af6c3\" style=\"stroke:#000000;\"/>\n",
       "    </defs>\n",
       "    <g clip-path=\"url(#pdb7c92c7d5)\">\n",
       "     <use style=\"stroke:#000000;\" x=\"37.6190691489\" xlink:href=\"#m2faa5af6c3\" y=\"19.5514054054\"/>\n",
       "     <use style=\"stroke:#000000;\" x=\"61.36375\" xlink:href=\"#m2faa5af6c3\" y=\"19.5514054054\"/>\n",
       "    </g>\n",
       "   </g>\n",
       "   <g id=\"line2d_5\">\n",
       "    <path clip-path=\"url(#pdb7c92c7d5)\" d=\"\n",
       "M37.6191 12.9006\n",
       "L73.2361 12.9006\" style=\"fill:none;stroke:#000000;stroke-linecap:square;\"/>\n",
       "    <g clip-path=\"url(#pdb7c92c7d5)\">\n",
       "     <use style=\"stroke:#000000;\" x=\"37.6190691489\" xlink:href=\"#m2faa5af6c3\" y=\"12.9006486486\"/>\n",
       "     <use style=\"stroke:#000000;\" x=\"73.2360904255\" xlink:href=\"#m2faa5af6c3\" y=\"12.9006486486\"/>\n",
       "    </g>\n",
       "   </g>\n",
       "   <g id=\"patch_3\">\n",
       "    <path d=\"\n",
       "M33.4637 7.2\n",
       "L89.2637 7.2\" style=\"fill:none;stroke:#000000;stroke-linecap:square;stroke-linejoin:miter;\"/>\n",
       "   </g>\n",
       "   <g id=\"patch_4\">\n",
       "    <path d=\"\n",
       "M89.2637 77.508\n",
       "L89.2637 7.2\" style=\"fill:none;stroke:#000000;stroke-linecap:square;stroke-linejoin:miter;\"/>\n",
       "   </g>\n",
       "   <g id=\"patch_5\">\n",
       "    <path d=\"\n",
       "M33.4637 77.508\n",
       "L89.2637 77.508\" style=\"fill:none;stroke:#000000;stroke-linecap:square;stroke-linejoin:miter;\"/>\n",
       "   </g>\n",
       "   <g id=\"patch_6\">\n",
       "    <path d=\"\n",
       "M33.4637 77.508\n",
       "L33.4637 7.2\" style=\"fill:none;stroke:#000000;stroke-linecap:square;stroke-linejoin:miter;\"/>\n",
       "   </g>\n",
       "   <g id=\"matplotlib.axis_1\">\n",
       "    <g id=\"xtick_1\">\n",
       "     <g id=\"line2d_6\">\n",
       "      <defs>\n",
       "       <path d=\"\n",
       "M0 0\n",
       "L0 -4\" id=\"m93b0483c22\" style=\"stroke:#000000;stroke-width:0.5;\"/>\n",
       "      </defs>\n",
       "      <g>\n",
       "       <use style=\"stroke:#000000;stroke-width:0.5;\" x=\"37.6190691489\" xlink:href=\"#m93b0483c22\" y=\"77.508\"/>\n",
       "      </g>\n",
       "     </g>\n",
       "     <g id=\"line2d_7\">\n",
       "      <defs>\n",
       "       <path d=\"\n",
       "M0 0\n",
       "L0 4\" id=\"m741efc42ff\" style=\"stroke:#000000;stroke-width:0.5;\"/>\n",
       "      </defs>\n",
       "      <g>\n",
       "       <use style=\"stroke:#000000;stroke-width:0.5;\" x=\"37.6190691489\" xlink:href=\"#m741efc42ff\" y=\"7.2\"/>\n",
       "      </g>\n",
       "     </g>\n",
       "     <g id=\"text_1\">\n",
       "      <text style=\"font-family:Helvetica LT Std;font-size:8.0px;font-style:normal;text-anchor:middle;\" transform=\"rotate(-0.000000, 37.619069, 87.204250)\" x=\"37.6190691489\" y=\"87.20425\">0</text>\n",
       "     </g>\n",
       "    </g>\n",
       "    <g id=\"xtick_2\">\n",
       "     <g id=\"line2d_8\">\n",
       "      <g>\n",
       "       <use style=\"stroke:#000000;stroke-width:0.5;\" x=\"49.4914095745\" xlink:href=\"#m93b0483c22\" y=\"77.508\"/>\n",
       "      </g>\n",
       "     </g>\n",
       "     <g id=\"line2d_9\">\n",
       "      <g>\n",
       "       <use style=\"stroke:#000000;stroke-width:0.5;\" x=\"49.4914095745\" xlink:href=\"#m741efc42ff\" y=\"7.2\"/>\n",
       "      </g>\n",
       "     </g>\n",
       "     <g id=\"text_2\">\n",
       "      <text style=\"font-family:Helvetica LT Std;font-size:8.0px;font-style:normal;text-anchor:middle;\" transform=\"rotate(-0.000000, 49.491410, 87.204250)\" x=\"49.4914095745\" y=\"87.20425\">2</text>\n",
       "     </g>\n",
       "    </g>\n",
       "    <g id=\"xtick_3\">\n",
       "     <g id=\"line2d_10\">\n",
       "      <g>\n",
       "       <use style=\"stroke:#000000;stroke-width:0.5;\" x=\"61.36375\" xlink:href=\"#m93b0483c22\" y=\"77.508\"/>\n",
       "      </g>\n",
       "     </g>\n",
       "     <g id=\"line2d_11\">\n",
       "      <g>\n",
       "       <use style=\"stroke:#000000;stroke-width:0.5;\" x=\"61.36375\" xlink:href=\"#m741efc42ff\" y=\"7.2\"/>\n",
       "      </g>\n",
       "     </g>\n",
       "     <g id=\"text_3\">\n",
       "      <text style=\"font-family:Helvetica LT Std;font-size:8.0px;font-style:normal;text-anchor:middle;\" transform=\"rotate(-0.000000, 61.363750, 87.204250)\" x=\"61.36375\" y=\"87.20425\">4</text>\n",
       "     </g>\n",
       "    </g>\n",
       "    <g id=\"xtick_4\">\n",
       "     <g id=\"line2d_12\">\n",
       "      <g>\n",
       "       <use style=\"stroke:#000000;stroke-width:0.5;\" x=\"73.2360904255\" xlink:href=\"#m93b0483c22\" y=\"77.508\"/>\n",
       "      </g>\n",
       "     </g>\n",
       "     <g id=\"line2d_13\">\n",
       "      <g>\n",
       "       <use style=\"stroke:#000000;stroke-width:0.5;\" x=\"73.2360904255\" xlink:href=\"#m741efc42ff\" y=\"7.2\"/>\n",
       "      </g>\n",
       "     </g>\n",
       "     <g id=\"text_4\">\n",
       "      <text style=\"font-family:Helvetica LT Std;font-size:8.0px;font-style:normal;text-anchor:middle;\" transform=\"rotate(-0.000000, 73.236090, 87.204250)\" x=\"73.2360904255\" y=\"87.20425\">6</text>\n",
       "     </g>\n",
       "    </g>\n",
       "    <g id=\"xtick_5\">\n",
       "     <g id=\"line2d_14\">\n",
       "      <g>\n",
       "       <use style=\"stroke:#000000;stroke-width:0.5;\" x=\"85.1084308511\" xlink:href=\"#m93b0483c22\" y=\"77.508\"/>\n",
       "      </g>\n",
       "     </g>\n",
       "     <g id=\"line2d_15\">\n",
       "      <g>\n",
       "       <use style=\"stroke:#000000;stroke-width:0.5;\" x=\"85.1084308511\" xlink:href=\"#m741efc42ff\" y=\"7.2\"/>\n",
       "      </g>\n",
       "     </g>\n",
       "     <g id=\"text_5\">\n",
       "      <text style=\"font-family:Helvetica LT Std;font-size:8.0px;font-style:normal;text-anchor:middle;\" transform=\"rotate(-0.000000, 85.108431, 87.204250)\" x=\"85.1084308511\" y=\"87.20425\">8</text>\n",
       "     </g>\n",
       "    </g>\n",
       "    <g id=\"text_6\">\n",
       "     <text style=\"font-family:Helvetica LT Std;font-size:8.0px;font-style:normal;text-anchor:middle;\" transform=\"rotate(-0.000000, 61.363750, 98.924250)\" x=\"61.36375\" y=\"98.92425\">Time (days)</text>\n",
       "    </g>\n",
       "   </g>\n",
       "   <g id=\"matplotlib.axis_2\">\n",
       "    <g id=\"ytick_1\">\n",
       "     <g id=\"line2d_16\">\n",
       "      <defs>\n",
       "       <path d=\"\n",
       "M0 0\n",
       "L4 0\" id=\"m728421d6d4\" style=\"stroke:#000000;stroke-width:0.5;\"/>\n",
       "      </defs>\n",
       "      <g>\n",
       "       <use style=\"stroke:#000000;stroke-width:0.5;\" x=\"33.46375\" xlink:href=\"#m728421d6d4\" y=\"77.508\"/>\n",
       "      </g>\n",
       "     </g>\n",
       "     <g id=\"line2d_17\">\n",
       "      <defs>\n",
       "       <path d=\"\n",
       "M0 0\n",
       "L-4 0\" id=\"mcb0005524f\" style=\"stroke:#000000;stroke-width:0.5;\"/>\n",
       "      </defs>\n",
       "      <g>\n",
       "       <use style=\"stroke:#000000;stroke-width:0.5;\" x=\"89.26375\" xlink:href=\"#mcb0005524f\" y=\"77.508\"/>\n",
       "      </g>\n",
       "     </g>\n",
       "     <g id=\"text_7\">\n",
       "      <text style=\"font-family:Helvetica LT Std;font-size:8.0px;font-style:normal;text-anchor:end;\" transform=\"rotate(-0.000000, 29.463750, 79.844250)\" x=\"29.46375\" y=\"79.84425\">0</text>\n",
       "     </g>\n",
       "    </g>\n",
       "    <g id=\"ytick_2\">\n",
       "     <g id=\"line2d_18\">\n",
       "      <g>\n",
       "       <use style=\"stroke:#000000;stroke-width:0.5;\" x=\"33.46375\" xlink:href=\"#m728421d6d4\" y=\"58.5058378378\"/>\n",
       "      </g>\n",
       "     </g>\n",
       "     <g id=\"line2d_19\">\n",
       "      <g>\n",
       "       <use style=\"stroke:#000000;stroke-width:0.5;\" x=\"89.26375\" xlink:href=\"#mcb0005524f\" y=\"58.5058378378\"/>\n",
       "      </g>\n",
       "     </g>\n",
       "     <g id=\"text_8\">\n",
       "      <text style=\"font-family:Helvetica LT Std;font-size:8.0px;font-style:normal;text-anchor:end;\" transform=\"rotate(-0.000000, 29.463750, 60.842088)\" x=\"29.46375\" y=\"60.8420878378\">100</text>\n",
       "     </g>\n",
       "    </g>\n",
       "    <g id=\"ytick_3\">\n",
       "     <g id=\"line2d_20\">\n",
       "      <g>\n",
       "       <use style=\"stroke:#000000;stroke-width:0.5;\" x=\"33.46375\" xlink:href=\"#m728421d6d4\" y=\"39.5036756757\"/>\n",
       "      </g>\n",
       "     </g>\n",
       "     <g id=\"line2d_21\">\n",
       "      <g>\n",
       "       <use style=\"stroke:#000000;stroke-width:0.5;\" x=\"89.26375\" xlink:href=\"#mcb0005524f\" y=\"39.5036756757\"/>\n",
       "      </g>\n",
       "     </g>\n",
       "     <g id=\"text_9\">\n",
       "      <text style=\"font-family:Helvetica LT Std;font-size:8.0px;font-style:normal;text-anchor:end;\" transform=\"rotate(-0.000000, 29.463750, 41.839926)\" x=\"29.46375\" y=\"41.8399256757\">200</text>\n",
       "     </g>\n",
       "    </g>\n",
       "    <g id=\"ytick_4\">\n",
       "     <g id=\"line2d_22\">\n",
       "      <g>\n",
       "       <use style=\"stroke:#000000;stroke-width:0.5;\" x=\"33.46375\" xlink:href=\"#m728421d6d4\" y=\"20.5015135135\"/>\n",
       "      </g>\n",
       "     </g>\n",
       "     <g id=\"line2d_23\">\n",
       "      <g>\n",
       "       <use style=\"stroke:#000000;stroke-width:0.5;\" x=\"89.26375\" xlink:href=\"#mcb0005524f\" y=\"20.5015135135\"/>\n",
       "      </g>\n",
       "     </g>\n",
       "     <g id=\"text_10\">\n",
       "      <text style=\"font-family:Helvetica LT Std;font-size:8.0px;font-style:normal;text-anchor:end;\" transform=\"rotate(-0.000000, 29.463750, 22.837764)\" x=\"29.46375\" y=\"22.8377635135\">300</text>\n",
       "     </g>\n",
       "    </g>\n",
       "    <g id=\"text_11\">\n",
       "     <text style=\"font-family:Helvetica LT Std;font-size:8.0px;font-style:normal;text-anchor:middle;\" transform=\"rotate(-90.000000, 12.896250, 42.354000)\" x=\"12.89625\" y=\"42.354\"># SOX2+/PCNA- cells</text>\n",
       "    </g>\n",
       "   </g>\n",
       "   <g id=\"text_12\">\n",
       "    <text style=\"font-family:Helvetica LT Std;font-size:12.0px;font-style:normal;text-anchor:middle;\" transform=\"rotate(-0.000000, 49.491410, 23.055780)\" x=\"49.4914095745\" y=\"23.0557804054\">*</text>\n",
       "   </g>\n",
       "   <g id=\"text_13\">\n",
       "    <text style=\"font-family:Helvetica LT Std;font-size:12.0px;font-style:normal;text-anchor:middle;\" transform=\"rotate(-0.000000, 55.427580, 16.405024)\" x=\"55.4275797872\" y=\"16.4050236486\">*</text>\n",
       "   </g>\n",
       "  </g>\n",
       " </g>\n",
       " <defs>\n",
       "  <clipPath id=\"pdb7c92c7d5\">\n",
       "   <rect height=\"70.308\" width=\"55.8\" x=\"33.46375\" y=\"7.2\"/>\n",
       "  </clipPath>\n",
       " </defs>\n",
       "</svg>\n"
      ],
      "text/plain": [
       "<matplotlib.figure.Figure at 0x7f9193948a50>"
      ]
     },
     "metadata": {},
     "output_type": "display_data"
    }
   ],
   "source": [
    "fig, ax = plt.subplots(1, figsize = (1, 31.5/25.0))\n",
    "ax.errorbar(Nq.index,\\\n",
    "            Nq['mean'],\n",
    "            Nq['delta'],\n",
    "            fmt = 'ko', ls = '-')\n",
    "\n",
    "significance_bar(0, 4, 305.0, '*')\n",
    "significance_bar(0, 6, 340.0, '*')\n",
    "\n",
    "ax.set_xlim(-0.7, 8.7)\n",
    "ax.set_ylim(0, 370)\n",
    "ax.set_yticks(sp.arange(0, 350, 100))\n",
    "ax.set_xlabel('Time (days)')\n",
    "ax.set_ylabel('# SOX2+/PCNA- cells', labelpad = 8)\n",
    "plt.savefig('../figure_plots/Fig2_total_number_quiescent.svg')\n",
    "plt.show()"
   ]
  },
  {
   "cell_type": "code",
   "execution_count": null,
   "metadata": {
    "collapsed": true
   },
   "outputs": [],
   "source": []
  }
 ],
 "metadata": {
  "kernelspec": {
   "display_name": "Python 2",
   "language": "python",
   "name": "python2"
  },
  "language_info": {
   "codemirror_mode": {
    "name": "ipython",
    "version": 2
   },
   "file_extension": ".py",
   "mimetype": "text/x-python",
   "name": "python",
   "nbconvert_exporter": "python",
   "pygments_lexer": "ipython2",
   "version": "2.7.11"
  }
 },
 "nbformat": 4,
 "nbformat_minor": 0
}
